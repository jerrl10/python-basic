{
 "cells": [
  {
   "cell_type": "code",
   "execution_count": 1,
   "id": "d9059af8",
   "metadata": {},
   "outputs": [
    {
     "name": "stdout",
     "output_type": "stream",
     "text": [
      "[-1, 0]\n"
     ]
    }
   ],
   "source": [
    "# iterative approach\n",
    "def find_element(num, target):\n",
    "    initial = -1\n",
    "    last = -1\n",
    "    for i in range(len(num)):\n",
    "        if num[i] == target:\n",
    "            if initial == -1:\n",
    "                initial = i\n",
    "            last = i\n",
    "        else:\n",
    "            last = i\n",
    "        return [initial, last]\n",
    "    \n",
    "print(find_element([1, 2, 3, 3, 4, 5], 3))\n"
   ]
  }
 ],
 "metadata": {
  "kernelspec": {
   "display_name": "Python 3",
   "language": "python",
   "name": "python3"
  },
  "language_info": {
   "codemirror_mode": {
    "name": "ipython",
    "version": 3
   },
   "file_extension": ".py",
   "mimetype": "text/x-python",
   "name": "python",
   "nbconvert_exporter": "python",
   "pygments_lexer": "ipython3",
   "version": "3.9.6"
  }
 },
 "nbformat": 4,
 "nbformat_minor": 5
}
