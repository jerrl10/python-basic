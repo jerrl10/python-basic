{
 "cells": [
  {
   "cell_type": "code",
   "execution_count": null,
   "id": "b6ea9706",
   "metadata": {},
   "outputs": [
    {
     "name": "stdout",
     "output_type": "stream",
     "text": [
      "3\n"
     ]
    }
   ],
   "source": [
    "def find_peak(arr):\n",
    "    peak_index = 0\n",
    "    for i in range(len(arr)): # [1, 2, -2, 10, 3] , length = 5, i = 0, i = 1, i = 2, i = 3, i = 4\n",
    "        if arr[i] > arr[peak_index]:\n",
    "            peak_index = i\n",
    "    return peak_index\n",
    "# [-2, 1, 2, 3, 10]\n",
    "print(find_peak([1, 2, -2, 10, 3])) # 3"
   ]
  },
  {
   "cell_type": "code",
   "execution_count": null,
   "id": "05debd9c",
   "metadata": {},
   "outputs": [
    {
     "name": "stdout",
     "output_type": "stream",
     "text": [
      "5\n",
      "4\n"
     ]
    }
   ],
   "source": [
    "def find_peak_binary_search(arr):\n",
    "    left = 0\n",
    "    right = len(arr) - 1\n",
    "    while left < right:\n",
    "        mid = (left + right) // 2\n",
    "        if arr[mid] < arr[mid + 1]:\n",
    "            left = mid + 1\n",
    "        else:\n",
    "            right = mid\n",
    "    return left\n",
    "\n",
    "# [1, 3, 4, 5, 9, 100, 200]\n",
    "print(find_peak_binary_search([1, 200, 5, 3, 4, 100, 9])) # 5\n",
    "# [-2, 1, 2, 3, 10]\n",
    "print(find_peak_binary_search([-2, 1, 2, 3, 10])) # 4"
   ]
  }
 ],
 "metadata": {
  "kernelspec": {
   "display_name": "Python 3",
   "language": "python",
   "name": "python3"
  },
  "language_info": {
   "codemirror_mode": {
    "name": "ipython",
    "version": 3
   },
   "file_extension": ".py",
   "mimetype": "text/x-python",
   "name": "python",
   "nbconvert_exporter": "python",
   "pygments_lexer": "ipython3",
   "version": "3.9.6"
  }
 },
 "nbformat": 4,
 "nbformat_minor": 5
}
