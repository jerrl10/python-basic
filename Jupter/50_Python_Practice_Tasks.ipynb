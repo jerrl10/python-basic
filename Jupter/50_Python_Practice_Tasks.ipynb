{
 "cells": [
  {
   "cell_type": "markdown",
   "id": "4485c6eb",
   "metadata": {},
   "source": [
    "# 50 Python Practice Tasks\n",
    "Each cell contains a small Python problem. Solve them in Jupyter to enhance your skills!"
   ]
  },
  {
   "cell_type": "markdown",
   "id": "b9abc7bf",
   "metadata": {},
   "source": [
    "### Task 1: Assign the value 42 to a variable named `answer` and print it."
   ]
  },
  {
   "cell_type": "code",
   "execution_count": 1,
   "id": "2eb2b630",
   "metadata": {},
   "outputs": [
    {
     "name": "stdout",
     "output_type": "stream",
     "text": [
      "42\n"
     ]
    }
   ],
   "source": [
    "# Your code here\n",
    "answer = 42\n",
    "print(answer)"
   ]
  },
  {
   "cell_type": "markdown",
   "id": "9e979791",
   "metadata": {},
   "source": [
    "### Task 2: Print your name to the screen."
   ]
  },
  {
   "cell_type": "code",
   "execution_count": 2,
   "id": "d745601a",
   "metadata": {},
   "outputs": [
    {
     "name": "stdout",
     "output_type": "stream",
     "text": [
      "Your Name\n"
     ]
    }
   ],
   "source": [
    "# Your code here\n",
    "print('Your Name')"
   ]
  },
  {
   "cell_type": "markdown",
   "id": "609bd17a",
   "metadata": {},
   "source": [
    "### Task 3: Add 7 and 13. Print the result."
   ]
  },
  {
   "cell_type": "code",
   "execution_count": null,
   "id": "f6a62573",
   "metadata": {},
   "outputs": [],
   "source": [
    "# Your code here\n",
    "result = 7 + 13\n",
    "print(result)"
   ]
  },
  {
   "cell_type": "markdown",
   "id": "1819fcbe",
   "metadata": {},
   "source": [
    "### Task 4: Assign two numbers to variables, swap them (using a temp variable), and print them."
   ]
  },
  {
   "cell_type": "code",
   "execution_count": null,
   "id": "849a0dee",
   "metadata": {},
   "outputs": [],
   "source": [
    "# Your code here\n",
    "a = 10\n",
    "b = 20\n",
    "temp = a\n",
    "a = b\n",
    "b = temp\n",
    "print(a, b)"
   ]
  },
  {
   "cell_type": "markdown",
   "id": "f0bb3b9e",
   "metadata": {},
   "source": [
    "### Task 5: Assign a float and an integer to two variables. Print their product."
   ]
  },
  {
   "cell_type": "code",
   "execution_count": null,
   "id": "d410bfa6",
   "metadata": {},
   "outputs": [],
   "source": [
    "# Your code here\n",
    "f = 2.5\n",
    "i = 4\n",
    "print(f * i)"
   ]
  },
  {
   "cell_type": "markdown",
   "id": "9fe16ebe",
   "metadata": {},
   "source": [
    "### Task 6: Create a string variable. Print its length."
   ]
  },
  {
   "cell_type": "code",
   "execution_count": null,
   "id": "3a7a5d0f",
   "metadata": {},
   "outputs": [],
   "source": [
    "# Your code here\n",
    "s = 'python is fun'\n",
    "print(len(s))"
   ]
  },
  {
   "cell_type": "markdown",
   "id": "3ef30308",
   "metadata": {},
   "source": [
    "### Task 7: Print the first and last character of a string."
   ]
  },
  {
   "cell_type": "code",
   "execution_count": null,
   "id": "fc587338",
   "metadata": {},
   "outputs": [],
   "source": [
    "# Your code here\n",
    "text = 'hello'\n",
    "print(text[0], text[-1])"
   ]
  },
  {
   "cell_type": "markdown",
   "id": "a33e3f43",
   "metadata": {},
   "source": [
    "### Task 8: Convert the string 'Python' to uppercase."
   ]
  },
  {
   "cell_type": "code",
   "execution_count": null,
   "id": "da58dc34",
   "metadata": {},
   "outputs": [],
   "source": [
    "# Your code here\n",
    "s = 'Python'\n",
    "print(s.upper())"
   ]
  },
  {
   "cell_type": "markdown",
   "id": "5be143c3",
   "metadata": {},
   "source": [
    "### Task 9: Concatenate 'Hello' and 'World' with a space between them."
   ]
  },
  {
   "cell_type": "code",
   "execution_count": null,
   "id": "32a5d47e",
   "metadata": {},
   "outputs": [],
   "source": [
    "# Your code here\n",
    "greeting = 'Hello' + ' ' + 'World'\n",
    "print(greeting)"
   ]
  },
  {
   "cell_type": "markdown",
   "id": "1c8e5c4e",
   "metadata": {},
   "source": [
    "### Task 10: Check if the substring 'on' exists in 'Python'. Print True/False."
   ]
  },
  {
   "cell_type": "code",
   "execution_count": 3,
   "id": "39139dbe",
   "metadata": {},
   "outputs": [
    {
     "name": "stdout",
     "output_type": "stream",
     "text": [
      "True\n"
     ]
    }
   ],
   "source": [
    "# Your code here\n",
    "print('on' in 'Python')"
   ]
  },
  {
   "cell_type": "markdown",
   "id": "73c7a422",
   "metadata": {},
   "source": [
    "### Task 11: Create a list with values [1, 2, 3, 4, 5] and print the third item."
   ]
  },
  {
   "cell_type": "code",
   "execution_count": 4,
   "id": "0d9a4303",
   "metadata": {},
   "outputs": [
    {
     "name": "stdout",
     "output_type": "stream",
     "text": [
      "3\n"
     ]
    }
   ],
   "source": [
    "# Your code here\n",
    "lst = [1,2,3,4,5]\n",
    "print(lst[2])"
   ]
  },
  {
   "cell_type": "markdown",
   "id": "1a711100",
   "metadata": {},
   "source": [
    "### Task 12: Append 6 to the list and print it."
   ]
  },
  {
   "cell_type": "code",
   "execution_count": 5,
   "id": "868b4915",
   "metadata": {},
   "outputs": [
    {
     "name": "stdout",
     "output_type": "stream",
     "text": [
      "[1, 2, 3, 4, 5, 6]\n"
     ]
    }
   ],
   "source": [
    "# Your code here\n",
    "lst.append(6)\n",
    "print(lst)"
   ]
  },
  {
   "cell_type": "markdown",
   "id": "b4c10ae6",
   "metadata": {},
   "source": [
    "### Task 13: Remove the number 3 from the list and print it."
   ]
  },
  {
   "cell_type": "code",
   "execution_count": 6,
   "id": "ae6c4662",
   "metadata": {},
   "outputs": [
    {
     "name": "stdout",
     "output_type": "stream",
     "text": [
      "[1, 2, 4, 5, 6]\n"
     ]
    }
   ],
   "source": [
    "# Your code here\n",
    "lst.remove(3)\n",
    "print(lst)"
   ]
  },
  {
   "cell_type": "markdown",
   "id": "27cbce7a",
   "metadata": {},
   "source": [
    "### Task 14: Print the list in reverse order (use slicing)."
   ]
  },
  {
   "cell_type": "code",
   "execution_count": 7,
   "id": "34965b1b",
   "metadata": {},
   "outputs": [
    {
     "name": "stdout",
     "output_type": "stream",
     "text": [
      "[6, 5, 4, 2, 1]\n"
     ]
    }
   ],
   "source": [
    "# Your code here\n",
    "print(lst[::-1])"
   ]
  },
  {
   "cell_type": "markdown",
   "id": "e8843fb8",
   "metadata": {},
   "source": [
    "### Task 15: Sum all numbers in the list and print the sum."
   ]
  },
  {
   "cell_type": "code",
   "execution_count": 8,
   "id": "b899cfab",
   "metadata": {},
   "outputs": [
    {
     "name": "stdout",
     "output_type": "stream",
     "text": [
      "18\n"
     ]
    }
   ],
   "source": [
    "# Your code here\n",
    "print(sum(lst))"
   ]
  },
  {
   "cell_type": "markdown",
   "id": "2cb5240a",
   "metadata": {},
   "source": [
    "### Task 16: Print all numbers from 1 to 5 using a for loop."
   ]
  },
  {
   "cell_type": "code",
   "execution_count": 10,
   "id": "0c3854d0",
   "metadata": {},
   "outputs": [
    {
     "name": "stdout",
     "output_type": "stream",
     "text": [
      "1\n",
      "2\n",
      "3\n",
      "4\n",
      "5\n"
     ]
    }
   ],
   "source": [
    "# Your code here\n",
    "for i in range(1,6):\n",
    "    print(i)"
   ]
  },
  {
   "cell_type": "markdown",
   "id": "52dd9016",
   "metadata": {},
   "source": [
    "### Task 17: Print only even numbers from 1 to 10."
   ]
  },
  {
   "cell_type": "code",
   "execution_count": 11,
   "id": "332d78d4",
   "metadata": {},
   "outputs": [
    {
     "name": "stdout",
     "output_type": "stream",
     "text": [
      "2\n",
      "4\n",
      "6\n",
      "8\n",
      "10\n"
     ]
    }
   ],
   "source": [
    "# Your code here\n",
    "for i in range(1,11):\n",
    "    if i%2==0:\n",
    "        print(i)"
   ]
  },
  {
   "cell_type": "markdown",
   "id": "314febdc",
   "metadata": {},
   "source": [
    "### Task 18: Calculate the factorial of 5 using a loop and print it."
   ]
  },
  {
   "cell_type": "code",
   "execution_count": 9,
   "id": "6229ca7b",
   "metadata": {},
   "outputs": [
    {
     "name": "stdout",
     "output_type": "stream",
     "text": [
      "120\n",
      "120\n"
     ]
    }
   ],
   "source": [
    "# Your code here\n",
    "fact = 1\n",
    "for i in range(1,6):\n",
    "    fact *= i\n",
    "print(fact)\n",
    "z = 1 * 2 * 3 * 4 * 5\n",
    "print(z)"
   ]
  },
  {
   "cell_type": "markdown",
   "id": "5f5aec69",
   "metadata": {},
   "source": [
    "### Task 19: Print the characters of the string 'hello' one by one."
   ]
  },
  {
   "cell_type": "code",
   "execution_count": 10,
   "id": "0377326d",
   "metadata": {},
   "outputs": [
    {
     "name": "stdout",
     "output_type": "stream",
     "text": [
      "h\n",
      "e\n",
      "l\n",
      "l\n",
      "o\n"
     ]
    }
   ],
   "source": [
    "# Your code here\n",
    "for ch in 'hello':\n",
    "    print(ch)"
   ]
  },
  {
   "cell_type": "markdown",
   "id": "de6adb71",
   "metadata": {},
   "source": [
    "### Task 20: Given a list, print only values greater than 3."
   ]
  },
  {
   "cell_type": "code",
   "execution_count": 11,
   "id": "97b5c7a8",
   "metadata": {},
   "outputs": [
    {
     "name": "stdout",
     "output_type": "stream",
     "text": [
      "4\n",
      "7\n"
     ]
    }
   ],
   "source": [
    "# Your code here\n",
    "lst = [2, 4, 1, 7, 3]\n",
    "for val in lst:\n",
    "    if val > 3:\n",
    "        print(val)"
   ]
  },
  {
   "cell_type": "markdown",
   "id": "8cb146d9",
   "metadata": {},
   "source": [
    "### Task 21: Check if a number is positive, negative, or zero. Print a message."
   ]
  },
  {
   "cell_type": "code",
   "execution_count": 12,
   "id": "48b54230",
   "metadata": {},
   "outputs": [
    {
     "name": "stdout",
     "output_type": "stream",
     "text": [
      "Negative\n"
     ]
    }
   ],
   "source": [
    "# Your code here\n",
    "n = -4\n",
    "if n > 0:\n",
    "    print('Positive')\n",
    "elif n < 0:\n",
    "    print('Negative')\n",
    "else:\n",
    "    print('Zero')"
   ]
  },
  {
   "cell_type": "markdown",
   "id": "0e498c2a",
   "metadata": {},
   "source": [
    "### Task 22: Given two numbers, print the greater one."
   ]
  },
  {
   "cell_type": "code",
   "execution_count": 13,
   "id": "ecea0319",
   "metadata": {},
   "outputs": [
    {
     "name": "stdout",
     "output_type": "stream",
     "text": [
      "9\n"
     ]
    }
   ],
   "source": [
    "# Your code here\n",
    "a, b = 5, 9\n",
    "print(max(a, b))"
   ]
  },
  {
   "cell_type": "markdown",
   "id": "722c7743",
   "metadata": {},
   "source": [
    "### Task 23: Check if a year is a leap year (divisible by 4, not by 100 unless also by 400)."
   ]
  },
  {
   "cell_type": "code",
   "execution_count": null,
   "id": "fc67a23f",
   "metadata": {},
   "outputs": [],
   "source": [
    "# Your code here\n",
    "year = 2020\n",
    "is_leap = (year%4==0 and (year%100!=0 or year%400==0))\n",
    "print(is_leap)"
   ]
  },
  {
   "cell_type": "markdown",
   "id": "810fb112",
   "metadata": {},
   "source": [
    "### Task 24: Print 'Fizz' for numbers divisible by 3 from 1 to 15."
   ]
  },
  {
   "cell_type": "code",
   "execution_count": null,
   "id": "f74be288",
   "metadata": {},
   "outputs": [],
   "source": [
    "# Your code here\n",
    "for i in range(1,16):\n",
    "    if i%3==0:\n",
    "        print('Fizz')"
   ]
  },
  {
   "cell_type": "markdown",
   "id": "66591a95",
   "metadata": {},
   "source": [
    "### Task 25: Check if a string is a palindrome (reads the same backward)."
   ]
  },
  {
   "cell_type": "code",
   "execution_count": 14,
   "id": "15f5110a",
   "metadata": {},
   "outputs": [
    {
     "name": "stdout",
     "output_type": "stream",
     "text": [
      "True\n"
     ]
    }
   ],
   "source": [
    "# Your code here\n",
    "s = 'level'\n",
    "print(s == s[::-1])"
   ]
  },
  {
   "cell_type": "markdown",
   "id": "b7e63b09",
   "metadata": {},
   "source": [
    "### Task 26: Write a function to add two numbers and return the result."
   ]
  },
  {
   "cell_type": "code",
   "execution_count": null,
   "id": "feaff57c",
   "metadata": {},
   "outputs": [],
   "source": [
    "# Your code here\n",
    "def add(a,b):\n",
    "    return a+b\n",
    "print(add(2,3))"
   ]
  },
  {
   "cell_type": "markdown",
   "id": "50ec6684",
   "metadata": {},
   "source": [
    "### Task 27: Write a function that checks if a number is even."
   ]
  },
  {
   "cell_type": "code",
   "execution_count": 15,
   "id": "18521b95",
   "metadata": {},
   "outputs": [
    {
     "name": "stdout",
     "output_type": "stream",
     "text": [
      "True\n"
     ]
    }
   ],
   "source": [
    "# Your code here\n",
    "def is_even(n):\n",
    "    return n%2==0\n",
    "print(is_even(4))"
   ]
  },
  {
   "cell_type": "markdown",
   "id": "33fe66f6",
   "metadata": {},
   "source": [
    "### Task 28: Write a function that returns the maximum of three numbers."
   ]
  },
  {
   "cell_type": "code",
   "execution_count": 16,
   "id": "0cb66f66",
   "metadata": {},
   "outputs": [
    {
     "name": "stdout",
     "output_type": "stream",
     "text": [
      "7\n"
     ]
    }
   ],
   "source": [
    "# Your code here\n",
    "def max3(a,b,c):\n",
    "    return max(a,b,c)\n",
    "print(max3(3,7,5))"
   ]
  },
  {
   "cell_type": "markdown",
   "id": "5d3807d9",
   "metadata": {},
   "source": [
    "### Task 29: Write a function to count vowels in a string."
   ]
  },
  {
   "cell_type": "code",
   "execution_count": 17,
   "id": "2518db6e",
   "metadata": {},
   "outputs": [
    {
     "name": "stdout",
     "output_type": "stream",
     "text": [
      "2\n"
     ]
    }
   ],
   "source": [
    "# Your code here\n",
    "def count_vowels(s):\n",
    "    return sum(1 for c in s if c.lower() in 'aeiou')\n",
    "print(count_vowels('hello'))"
   ]
  },
  {
   "cell_type": "markdown",
   "id": "4e0dd655",
   "metadata": {},
   "source": [
    "### Task 30: Write a function that takes a list and returns a new list with squares of all numbers."
   ]
  },
  {
   "cell_type": "code",
   "execution_count": 18,
   "id": "dbd8a497",
   "metadata": {},
   "outputs": [
    {
     "name": "stdout",
     "output_type": "stream",
     "text": [
      "[1, 4, 9]\n"
     ]
    }
   ],
   "source": [
    "# Your code here\n",
    "def square_list(lst):\n",
    "    return [x**2 for x in lst]\n",
    "print(square_list([1,2,3]))"
   ]
  },
  {
   "cell_type": "markdown",
   "id": "0dfa2882",
   "metadata": {},
   "source": [
    "### Task 31: Create a dictionary with 'a':1, 'b':2. Print the value for key 'a'."
   ]
  },
  {
   "cell_type": "code",
   "execution_count": 19,
   "id": "dc7178c8",
   "metadata": {},
   "outputs": [
    {
     "name": "stdout",
     "output_type": "stream",
     "text": [
      "1\n"
     ]
    }
   ],
   "source": [
    "# Your code here\n",
    "d = {'a':1, 'b':2}\n",
    "print(d['a'])"
   ]
  },
  {
   "cell_type": "markdown",
   "id": "c2e36951",
   "metadata": {},
   "source": [
    "### Task 32: Add a new key-value pair 'c':3 and print the dictionary."
   ]
  },
  {
   "cell_type": "code",
   "execution_count": 20,
   "id": "8364ccc9",
   "metadata": {},
   "outputs": [
    {
     "name": "stdout",
     "output_type": "stream",
     "text": [
      "{'a': 1, 'b': 2, 'c': 3}\n"
     ]
    }
   ],
   "source": [
    "# Your code here\n",
    "d['c'] = 3\n",
    "print(d)"
   ]
  },
  {
   "cell_type": "markdown",
   "id": "fc93dcf3",
   "metadata": {},
   "source": [
    "### Task 33: Loop through dictionary keys and print them."
   ]
  },
  {
   "cell_type": "code",
   "execution_count": 21,
   "id": "0c01fb9c",
   "metadata": {},
   "outputs": [
    {
     "name": "stdout",
     "output_type": "stream",
     "text": [
      "a\n",
      "b\n",
      "c\n"
     ]
    }
   ],
   "source": [
    "# Your code here\n",
    "for k in d:\n",
    "    print(k)"
   ]
  },
  {
   "cell_type": "markdown",
   "id": "7fb0ba17",
   "metadata": {},
   "source": [
    "### Task 34: Loop through dictionary values and print them."
   ]
  },
  {
   "cell_type": "code",
   "execution_count": 22,
   "id": "3bf30421",
   "metadata": {},
   "outputs": [
    {
     "name": "stdout",
     "output_type": "stream",
     "text": [
      "1\n",
      "2\n",
      "3\n"
     ]
    }
   ],
   "source": [
    "# Your code here\n",
    "for v in d.values():\n",
    "    print(v)"
   ]
  },
  {
   "cell_type": "markdown",
   "id": "24891cd9",
   "metadata": {},
   "source": [
    "### Task 35: Check if key 'd' exists in the dictionary."
   ]
  },
  {
   "cell_type": "code",
   "execution_count": 23,
   "id": "554d0f5b",
   "metadata": {},
   "outputs": [
    {
     "name": "stdout",
     "output_type": "stream",
     "text": [
      "False\n"
     ]
    }
   ],
   "source": [
    "# Your code here\n",
    "print('d' in d)"
   ]
  },
  {
   "cell_type": "markdown",
   "id": "c38ade58",
   "metadata": {},
   "source": [
    "### Task 36: Create a set from the list [1,2,2,3,3,3] and print it."
   ]
  },
  {
   "cell_type": "code",
   "execution_count": 24,
   "id": "7be2fae4",
   "metadata": {},
   "outputs": [
    {
     "name": "stdout",
     "output_type": "stream",
     "text": [
      "{1, 2, 3}\n"
     ]
    }
   ],
   "source": [
    "# Your code here\n",
    "s = set([1,2,2,3,3,3])\n",
    "print(s)"
   ]
  },
  {
   "cell_type": "markdown",
   "id": "4983b142",
   "metadata": {},
   "source": [
    "### Task 37: Given two sets, print their intersection."
   ]
  },
  {
   "cell_type": "code",
   "execution_count": 25,
   "id": "0867e4e1",
   "metadata": {},
   "outputs": [
    {
     "name": "stdout",
     "output_type": "stream",
     "text": [
      "{2, 3}\n"
     ]
    }
   ],
   "source": [
    "# Your code here\n",
    "a = {1,2,3}\n",
    "b = {2,3,4}\n",
    "print(a & b)"
   ]
  },
  {
   "cell_type": "markdown",
   "id": "716c8722",
   "metadata": {},
   "source": [
    "### Task 38: Use list comprehension to create a list of squares from 1 to 5."
   ]
  },
  {
   "cell_type": "code",
   "execution_count": 26,
   "id": "e14c2d44",
   "metadata": {},
   "outputs": [
    {
     "name": "stdout",
     "output_type": "stream",
     "text": [
      "[1, 4, 9, 16, 25]\n"
     ]
    }
   ],
   "source": [
    "# Your code here\n",
    "squares = [x**2 for x in range(1,6)]\n",
    "print(squares)"
   ]
  },
  {
   "cell_type": "markdown",
   "id": "cf063102",
   "metadata": {},
   "source": [
    "### Task 39: Use dict comprehension to create a dict mapping numbers 1-5 to their cubes."
   ]
  },
  {
   "cell_type": "code",
   "execution_count": 27,
   "id": "8bd5616d",
   "metadata": {},
   "outputs": [
    {
     "name": "stdout",
     "output_type": "stream",
     "text": [
      "{1: 1, 2: 8, 3: 27, 4: 64, 5: 125}\n"
     ]
    }
   ],
   "source": [
    "# Your code here\n",
    "d = {x: x**3 for x in range(1,6)}\n",
    "print(d)"
   ]
  },
  {
   "cell_type": "markdown",
   "id": "51825800",
   "metadata": {},
   "source": [
    "### Task 40: Create a set of unique vowels in a string."
   ]
  },
  {
   "cell_type": "code",
   "execution_count": 28,
   "id": "649617b0",
   "metadata": {},
   "outputs": [
    {
     "name": "stdout",
     "output_type": "stream",
     "text": [
      "{'a'}\n"
     ]
    }
   ],
   "source": [
    "# Your code here\n",
    "s = 'banana'\n",
    "vowels = {c for c in s if c in 'aeiou'}\n",
    "print(vowels)"
   ]
  },
  {
   "cell_type": "markdown",
   "id": "b523bcc8",
   "metadata": {},
   "source": [
    "### Task 41: Write 'Hello, world!' to a file named 'hello.txt'."
   ]
  },
  {
   "cell_type": "code",
   "execution_count": null,
   "id": "5c648abb",
   "metadata": {},
   "outputs": [],
   "source": [
    "# Your code here\n",
    "with open('hello.txt','w') as f:\n",
    "    f.write('Hello, world!')"
   ]
  },
  {
   "cell_type": "markdown",
   "id": "c3a702ed",
   "metadata": {},
   "source": [
    "### Task 42: Read the content of 'hello.txt' and print it."
   ]
  },
  {
   "cell_type": "code",
   "execution_count": null,
   "id": "2c448153",
   "metadata": {},
   "outputs": [],
   "source": [
    "# Your code here\n",
    "with open('hello.txt') as f:\n",
    "    print(f.read())"
   ]
  },
  {
   "cell_type": "markdown",
   "id": "b0411016",
   "metadata": {},
   "source": [
    "### Task 43: Handle a division by zero exception and print 'Error'."
   ]
  },
  {
   "cell_type": "code",
   "execution_count": 29,
   "id": "ac123663",
   "metadata": {},
   "outputs": [
    {
     "name": "stdout",
     "output_type": "stream",
     "text": [
      "Error\n"
     ]
    }
   ],
   "source": [
    "# Your code here\n",
    "try:\n",
    "    print(1/0)\n",
    "except ZeroDivisionError:\n",
    "    print('Error')"
   ]
  },
  {
   "cell_type": "markdown",
   "id": "9be8c5d8",
   "metadata": {},
   "source": [
    "### Task 44: Try to convert 'abc' to int and handle the exception."
   ]
  },
  {
   "cell_type": "code",
   "execution_count": 30,
   "id": "f86bf5f7",
   "metadata": {},
   "outputs": [
    {
     "name": "stdout",
     "output_type": "stream",
     "text": [
      "Cannot convert to int\n"
     ]
    }
   ],
   "source": [
    "# Your code here\n",
    "try:\n",
    "    n = int('abc')\n",
    "except ValueError:\n",
    "    print('Cannot convert to int')"
   ]
  },
  {
   "cell_type": "markdown",
   "id": "1a0388c6",
   "metadata": {},
   "source": [
    "### Task 45: Use a context manager to open a file and write a line to it."
   ]
  },
  {
   "cell_type": "code",
   "execution_count": null,
   "id": "48d39cf7",
   "metadata": {},
   "outputs": [],
   "source": [
    "# Your code here\n",
    "with open('test.txt','w') as f:\n",
    "    f.write('Python task!')"
   ]
  },
  {
   "cell_type": "markdown",
   "id": "277842bd",
   "metadata": {},
   "source": [
    "### Task 46: Define a class `Dog` with attribute `name`, create a `Dog` named 'Rex', and print its name."
   ]
  },
  {
   "cell_type": "code",
   "execution_count": null,
   "id": "1266c543",
   "metadata": {},
   "outputs": [],
   "source": [
    "# Your code here\n",
    "class Dog:\n",
    "    def __init__(self, name):\n",
    "        self.name = name\n",
    "rex = Dog('Rex')\n",
    "print(rex.name)"
   ]
  },
  {
   "cell_type": "markdown",
   "id": "75e2567a",
   "metadata": {},
   "source": [
    "### Task 47: Add a method `bark` to `Dog` that prints 'Woof!'. Call it."
   ]
  },
  {
   "cell_type": "code",
   "execution_count": null,
   "id": "16fd81d6",
   "metadata": {},
   "outputs": [],
   "source": [
    "# Your code here\n",
    "class Dog:\n",
    "    def __init__(self, name):\n",
    "        self.name = name\n",
    "    def bark(self):\n",
    "        print('Woof!')\n",
    "rex = Dog('Rex')\n",
    "rex.bark()"
   ]
  },
  {
   "cell_type": "markdown",
   "id": "a5a8d4ed",
   "metadata": {},
   "source": [
    "### Task 48: Create a class `Circle` with a method `area` that returns π*r². Print the area for r=2."
   ]
  },
  {
   "cell_type": "code",
   "execution_count": null,
   "id": "2d873099",
   "metadata": {},
   "outputs": [],
   "source": [
    "# Your code here\n",
    "import math\n",
    "class Circle:\n",
    "    def __init__(self, r):\n",
    "        self.r = r\n",
    "    def area(self):\n",
    "        return math.pi * self.r ** 2\n",
    "c = Circle(2)\n",
    "print(c.area())"
   ]
  },
  {
   "cell_type": "markdown",
   "id": "f82e2901",
   "metadata": {},
   "source": [
    "### Task 49: Create a class `Counter` with a method to increment a count. Show usage."
   ]
  },
  {
   "cell_type": "code",
   "execution_count": 31,
   "id": "ff17a5d1",
   "metadata": {},
   "outputs": [
    {
     "name": "stdout",
     "output_type": "stream",
     "text": [
      "1\n"
     ]
    }
   ],
   "source": [
    "# Your code here\n",
    "class Counter:\n",
    "    def __init__(self):\n",
    "        self.count = 0\n",
    "    def inc(self):\n",
    "        self.count += 1\n",
    "c = Counter()\n",
    "c.inc()\n",
    "print(c.count)"
   ]
  },
  {
   "cell_type": "markdown",
   "id": "d3bfa4d3",
   "metadata": {},
   "source": [
    "### Task 50: Write a class `Person` with `name` and `age`. Print a greeting using these attributes."
   ]
  },
  {
   "cell_type": "code",
   "execution_count": null,
   "id": "0c9ce2b9",
   "metadata": {},
   "outputs": [],
   "source": [
    "# Your code here\n",
    "class Person:\n",
    "    def __init__(self, name, age):\n",
    "        self.name = name\n",
    "        self.age = age\n",
    "p = Person('Alice', 30)\n",
    "print(f'Hello, my name is {p.name} and I am {p.age} years old.')"
   ]
  }
 ],
 "metadata": {
  "kernelspec": {
   "display_name": "Python 3",
   "language": "python",
   "name": "python3"
  },
  "language_info": {
   "codemirror_mode": {
    "name": "ipython",
    "version": 3
   },
   "file_extension": ".py",
   "mimetype": "text/x-python",
   "name": "python",
   "nbconvert_exporter": "python",
   "pygments_lexer": "ipython3",
   "version": "3.9.6"
  }
 },
 "nbformat": 4,
 "nbformat_minor": 5
}
