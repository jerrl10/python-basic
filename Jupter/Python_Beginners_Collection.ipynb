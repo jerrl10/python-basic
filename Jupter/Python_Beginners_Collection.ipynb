{
 "cells": [
  {
   "cell_type": "markdown",
   "id": "7d85fa35",
   "metadata": {},
   "source": [
    "# 📚 Python for Beginners: Jupyter Notebook Collection\n",
    "---"
   ]
  },
  {
   "cell_type": "markdown",
   "id": "4369667d",
   "metadata": {},
   "source": [
    "## 1. Introduction & Variables"
   ]
  },
  {
   "cell_type": "code",
   "execution_count": 1,
   "id": "2e7c6da9",
   "metadata": {},
   "outputs": [
    {
     "name": "stdout",
     "output_type": "stream",
     "text": [
      "5\n",
      "Alice\n",
      "3.14\n",
      "True\n"
     ]
    }
   ],
   "source": [
    "# Python Introduction: Variables\n",
    "\n",
    "# This is a comment\n",
    "x = 5         # integer\n",
    "name = \"Alice\"  # string\n",
    "pi = 3.14     # float\n",
    "is_happy = True # boolean\n",
    "\n",
    "print(x)\n",
    "print(name)\n",
    "print(pi)\n",
    "print(is_happy)\n",
    "\n",
    "# Try changing the variables above and running the cell again!\n"
   ]
  },
  {
   "cell_type": "markdown",
   "id": "3f778180",
   "metadata": {},
   "source": [
    "## 2. Basic Data Types"
   ]
  },
  {
   "cell_type": "code",
   "execution_count": null,
   "id": "ed9b4ad4",
   "metadata": {},
   "outputs": [],
   "source": [
    "# Integers, Floats, Strings, Booleans\n",
    "\n",
    "a = 10        # integer\n",
    "b = 2.5       # float\n",
    "c = \"hello\"   # string\n",
    "d = False     # boolean\n",
    "\n",
    "print(type(a))\n",
    "print(type(b))\n",
    "print(type(c))\n",
    "print(type(d))\n"
   ]
  },
  {
   "cell_type": "markdown",
   "id": "e51449b8",
   "metadata": {},
   "source": [
    "## 3. Operators"
   ]
  },
  {
   "cell_type": "code",
   "execution_count": null,
   "id": "1908bebd",
   "metadata": {},
   "outputs": [],
   "source": [
    "# Arithmetic Operators\n",
    "x = 10\n",
    "y = 3\n",
    "print(\"Addition:\", x + y)\n",
    "print(\"Subtraction:\", x - y)\n",
    "print(\"Multiplication:\", x * y)\n",
    "print(\"Division:\", x / y)\n",
    "print(\"Integer division:\", x // y)\n",
    "print(\"Modulus:\", x % y)\n",
    "print(\"Exponent:\", x ** y)\n",
    "\n",
    "# Comparison Operators\n",
    "print(x > y)\n",
    "print(x == y)\n",
    "print(x != y)\n"
   ]
  },
  {
   "cell_type": "markdown",
   "id": "8e7c0fe4",
   "metadata": {},
   "source": [
    "## 4. Lists and Indexing"
   ]
  },
  {
   "cell_type": "code",
   "execution_count": null,
   "id": "9cb385be",
   "metadata": {},
   "outputs": [],
   "source": [
    "# Lists: ordered, mutable collections\n",
    "\n",
    "numbers = [1, 2, 3, 4, 5]\n",
    "print(numbers)\n",
    "print(numbers[0])     # First element\n",
    "numbers.append(6)     # Add to end\n",
    "print(numbers)\n",
    "\n",
    "# Try modifying, adding, or removing elements in the list!\n"
   ]
  },
  {
   "cell_type": "markdown",
   "id": "f66640b1",
   "metadata": {},
   "source": [
    "## 5. Tuples and Dictionaries"
   ]
  },
  {
   "cell_type": "code",
   "execution_count": null,
   "id": "6fa17e8d",
   "metadata": {},
   "outputs": [],
   "source": [
    "# Tuples: ordered, immutable collections\n",
    "point = (10, 20)\n",
    "print(point)\n",
    "print(point[0])\n",
    "\n",
    "# Dictionaries: key-value pairs\n",
    "person = {\"name\": \"Bob\", \"age\": 30}\n",
    "print(person)\n",
    "print(person[\"name\"])\n",
    "\n",
    "# Add a new key-value pair\n",
    "person[\"city\"] = \"New York\"\n",
    "print(person)\n"
   ]
  },
  {
   "cell_type": "markdown",
   "id": "502042a2",
   "metadata": {},
   "source": [
    "## 6. If Statements"
   ]
  },
  {
   "cell_type": "code",
   "execution_count": null,
   "id": "dc3ba282",
   "metadata": {},
   "outputs": [],
   "source": [
    "# Conditionals\n",
    "\n",
    "age = 18\n",
    "\n",
    "if age >= 18:\n",
    "    print(\"You are an adult.\")\n",
    "else:\n",
    "    print(\"You are a minor.\")\n",
    "\n",
    "# Try changing 'age' above and see what happens!\n"
   ]
  },
  {
   "cell_type": "markdown",
   "id": "d241d6db",
   "metadata": {},
   "source": [
    "## 7. Loops"
   ]
  },
  {
   "cell_type": "code",
   "execution_count": null,
   "id": "33e71da6",
   "metadata": {},
   "outputs": [],
   "source": [
    "# For loop\n",
    "\n",
    "fruits = [\"apple\", \"banana\", \"cherry\"]\n",
    "for fruit in fruits:\n",
    "    print(fruit)\n",
    "\n",
    "# While loop\n",
    "count = 0\n",
    "while count < 3:\n",
    "    print(\"Count:\", count)\n",
    "    count += 1\n"
   ]
  },
  {
   "cell_type": "markdown",
   "id": "bc54b9d8",
   "metadata": {},
   "source": [
    "## 8. Functions"
   ]
  },
  {
   "cell_type": "code",
   "execution_count": null,
   "id": "92b845c7",
   "metadata": {},
   "outputs": [],
   "source": [
    "# Defining and using functions\n",
    "\n",
    "def greet(name):\n",
    "    print(\"Hello,\", name)\n",
    "\n",
    "greet(\"Alice\")\n",
    "greet(\"Bob\")\n",
    "\n",
    "# Write your own function below!\n"
   ]
  },
  {
   "cell_type": "markdown",
   "id": "0ed78071",
   "metadata": {},
   "source": [
    "## 9. Input and Output"
   ]
  },
  {
   "cell_type": "code",
   "execution_count": null,
   "id": "4fc2ef4f",
   "metadata": {},
   "outputs": [],
   "source": [
    "# User input (uncomment to try in interactive mode!)\n",
    "# your_name = input(\"What's your name? \")\n",
    "# print(\"Hello,\", your_name)\n",
    "\n",
    "# Output formatting\n",
    "age = 25\n",
    "print(f\"I am {age} years old.\")   # f-string formatting\n"
   ]
  },
  {
   "cell_type": "markdown",
   "id": "2d25f021",
   "metadata": {},
   "source": [
    "## 10. String Methods"
   ]
  },
  {
   "cell_type": "code",
   "execution_count": null,
   "id": "9df10927",
   "metadata": {},
   "outputs": [],
   "source": [
    "text = \"Hello, world!\"\n",
    "\n",
    "print(text.upper())\n",
    "print(text.lower())\n",
    "print(text.replace(\"world\", \"Python\"))\n",
    "print(len(text))\n"
   ]
  },
  {
   "cell_type": "markdown",
   "id": "c304ae33",
   "metadata": {},
   "source": [
    "## 11. List Comprehensions"
   ]
  },
  {
   "cell_type": "code",
   "execution_count": null,
   "id": "a707a655",
   "metadata": {},
   "outputs": [],
   "source": [
    "# Generate a list of squares\n",
    "squares = [x**2 for x in range(6)]\n",
    "print(squares)\n",
    "\n",
    "# Filtering even numbers\n",
    "evens = [x for x in range(10) if x % 2 == 0]\n",
    "print(evens)\n"
   ]
  },
  {
   "cell_type": "markdown",
   "id": "1683b4da",
   "metadata": {},
   "source": [
    "## 12. Exception Handling"
   ]
  },
  {
   "cell_type": "code",
   "execution_count": null,
   "id": "368b8e2c",
   "metadata": {},
   "outputs": [],
   "source": [
    "try:\n",
    "    result = 10 / 0\n",
    "except ZeroDivisionError:\n",
    "    print(\"Cannot divide by zero!\")\n"
   ]
  },
  {
   "cell_type": "markdown",
   "id": "7655944c",
   "metadata": {},
   "source": [
    "## 13. Classes and Objects"
   ]
  },
  {
   "cell_type": "code",
   "execution_count": null,
   "id": "31c21179",
   "metadata": {},
   "outputs": [],
   "source": [
    "class Dog:\n",
    "    def __init__(self, name):\n",
    "        self.name = name\n",
    "\n",
    "    def bark(self):\n",
    "        print(f\"{self.name} says woof!\")\n",
    "\n",
    "my_dog = Dog(\"Fido\")\n",
    "my_dog.bark()\n"
   ]
  },
  {
   "cell_type": "markdown",
   "id": "c9f0c40e",
   "metadata": {},
   "source": [
    "## 14. Importing Modules"
   ]
  },
  {
   "cell_type": "code",
   "execution_count": null,
   "id": "e8d04a63",
   "metadata": {},
   "outputs": [],
   "source": [
    "import math\n",
    "\n",
    "print(math.sqrt(16))\n",
    "print(math.pi)\n"
   ]
  },
  {
   "cell_type": "markdown",
   "id": "81b6aa8f",
   "metadata": {},
   "source": [
    "## 15. File Handling"
   ]
  },
  {
   "cell_type": "code",
   "execution_count": null,
   "id": "a10fc48e",
   "metadata": {},
   "outputs": [],
   "source": [
    "# Writing to a file\n",
    "with open(\"example.txt\", \"w\") as f:\n",
    "    f.write(\"Hello, file!\")\n",
    "\n",
    "# Reading from a file\n",
    "with open(\"example.txt\", \"r\") as f:\n",
    "    content = f.read()\n",
    "    print(content)\n"
   ]
  },
  {
   "cell_type": "markdown",
   "id": "15bb9d46",
   "metadata": {},
   "source": [
    "## 16. Advanced: Async and Generators"
   ]
  },
  {
   "cell_type": "code",
   "execution_count": null,
   "id": "8e2e9dec",
   "metadata": {},
   "outputs": [],
   "source": [
    "# Simple async example\n",
    "\n",
    "import asyncio\n",
    "\n",
    "async def say_hello():\n",
    "    print(\"Hello...\")\n",
    "    await asyncio.sleep(1)\n",
    "    print(\"...world!\")\n",
    "\n",
    "await say_hello()  # In Jupyter, use 'await' at top level\n",
    "\n",
    "# Generator example\n",
    "def number_gen():\n",
    "    for i in range(3):\n",
    "        yield i\n",
    "\n",
    "for num in number_gen():\n",
    "    print(num)\n"
   ]
  },
  {
   "cell_type": "markdown",
   "id": "5258262e",
   "metadata": {},
   "source": [
    "## 17. Practice: Mini Projects"
   ]
  },
  {
   "cell_type": "code",
   "execution_count": null,
   "id": "e02e2ec3",
   "metadata": {},
   "outputs": [],
   "source": [
    "# Mini-project: FizzBuzz\n",
    "for i in range(1, 21):\n",
    "    if i % 3 == 0 and i % 5 == 0:\n",
    "        print(\"FizzBuzz\")\n",
    "    elif i % 3 == 0:\n",
    "        print(\"Fizz\")\n",
    "    elif i % 5 == 0:\n",
    "        print(\"Buzz\")\n",
    "    else:\n",
    "        print(i)\n"
   ]
  },
  {
   "cell_type": "markdown",
   "id": "8c0d25ab",
   "metadata": {},
   "source": [
    "## 18. Resources & Next Steps"
   ]
  },
  {
   "cell_type": "code",
   "execution_count": null,
   "id": "dbff2816",
   "metadata": {},
   "outputs": [],
   "source": []
  }
 ],
 "metadata": {
  "kernelspec": {
   "display_name": ".venv",
   "language": "python",
   "name": "python3"
  },
  "language_info": {
   "codemirror_mode": {
    "name": "ipython",
    "version": 3
   },
   "file_extension": ".py",
   "mimetype": "text/x-python",
   "name": "python",
   "nbconvert_exporter": "python",
   "pygments_lexer": "ipython3",
   "version": "3.9.6"
  }
 },
 "nbformat": 4,
 "nbformat_minor": 5
}
