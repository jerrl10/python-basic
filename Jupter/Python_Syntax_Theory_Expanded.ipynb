{
 "cells": [
  {
   "cell_type": "markdown",
   "id": "41529793",
   "metadata": {},
   "source": [
    "# Python Syntax & Theory - Comprehensive Tutorial\n",
    "This notebook covers Python syntax and concepts with explanations and 50+ example cases.\n",
    "---"
   ]
  },
  {
   "cell_type": "markdown",
   "id": "f061b7d9",
   "metadata": {},
   "source": [
    "## 1. Variables & Data Types\n",
    "Variables are used to store data. Python infers the type. Common data types: int, float, str, bool."
   ]
  },
  {
   "cell_type": "code",
   "execution_count": null,
   "id": "9153e0fb",
   "metadata": {},
   "outputs": [],
   "source": [
    "# Case 1: Assign variables\n",
    "age = 25\n",
    "height = 1.80\n",
    "name = 'Sam'\n",
    "is_member = True\n",
    "print(age, height, name, is_member)"
   ]
  },
  {
   "cell_type": "code",
   "execution_count": null,
   "id": "c8539584",
   "metadata": {},
   "outputs": [],
   "source": [
    "# Case 2: Type checking\n",
    "print(type(age))\n",
    "print(type(height))\n",
    "print(type(name))\n",
    "print(type(is_member))"
   ]
  },
  {
   "cell_type": "code",
   "execution_count": null,
   "id": "2e774d1d",
   "metadata": {},
   "outputs": [],
   "source": [
    "# Case 3: Type casting\n",
    "x = '100'\n",
    "y = int(x)\n",
    "print(y, type(y))\n",
    "z = float(x)\n",
    "print(z, type(z))"
   ]
  },
  {
   "cell_type": "markdown",
   "id": "05ac1a40",
   "metadata": {},
   "source": [
    "## 2. Operators\n",
    "Operators perform operations: arithmetic, comparison, logical, and assignment."
   ]
  },
  {
   "cell_type": "code",
   "execution_count": null,
   "id": "99124239",
   "metadata": {},
   "outputs": [],
   "source": [
    "# Case 4: Arithmetic operators\n",
    "a = 8\n",
    "b = 3\n",
    "print(a + b, a - b, a * b, a / b, a % b, a ** b, a // b)"
   ]
  },
  {
   "cell_type": "code",
   "execution_count": null,
   "id": "de03a42e",
   "metadata": {},
   "outputs": [],
   "source": [
    "# Case 5: Comparison operators\n",
    "print(a > b, a == b, a != b, a <= b)"
   ]
  },
  {
   "cell_type": "code",
   "execution_count": null,
   "id": "c9865f4d",
   "metadata": {},
   "outputs": [],
   "source": [
    "# Case 6: Logical operators\n",
    "x, y = True, False\n",
    "print(x and y, x or y, not x)"
   ]
  },
  {
   "cell_type": "code",
   "execution_count": null,
   "id": "a28d80c8",
   "metadata": {},
   "outputs": [],
   "source": [
    "# Case 7: Assignment operators\n",
    "num = 5\n",
    "num += 2\n",
    "print(num)\n",
    "num *= 3\n",
    "print(num)"
   ]
  },
  {
   "cell_type": "markdown",
   "id": "850f4709",
   "metadata": {},
   "source": [
    "## 3. Lists & Tuples\n",
    "Lists are mutable ordered sequences. Tuples are immutable."
   ]
  },
  {
   "cell_type": "code",
   "execution_count": null,
   "id": "97259ac5",
   "metadata": {},
   "outputs": [],
   "source": [
    "# Case 8: List creation and indexing\n",
    "nums = [10, 20, 30, 40]\n",
    "print(nums[1], nums[-1])"
   ]
  },
  {
   "cell_type": "code",
   "execution_count": null,
   "id": "1ece828c",
   "metadata": {},
   "outputs": [],
   "source": [
    "# Case 9: List modification\n",
    "nums.append(50)\n",
    "nums[0] = 5\n",
    "print(nums)\n",
    "nums.pop()\n",
    "print(nums)"
   ]
  },
  {
   "cell_type": "code",
   "execution_count": null,
   "id": "cb247815",
   "metadata": {},
   "outputs": [],
   "source": [
    "# Case 10: List slicing\n",
    "print(nums[1:3])\n",
    "print(nums[:2])"
   ]
  },
  {
   "cell_type": "code",
   "execution_count": null,
   "id": "8a968098",
   "metadata": {},
   "outputs": [],
   "source": [
    "# Case 11: Tuple creation\n",
    "point = (5, 7)\n",
    "print(point[0])"
   ]
  },
  {
   "cell_type": "code",
   "execution_count": null,
   "id": "34b80c71",
   "metadata": {},
   "outputs": [],
   "source": [
    "# Case 12: Tuple unpacking\n",
    "x, y = point\n",
    "print('x:', x, 'y:', y)"
   ]
  },
  {
   "cell_type": "markdown",
   "id": "40b0fbfa",
   "metadata": {},
   "source": [
    "## 4. Dictionaries & Sets\n",
    "Dictionaries map keys to values. Sets are unique unordered collections."
   ]
  },
  {
   "cell_type": "code",
   "execution_count": null,
   "id": "af82595d",
   "metadata": {},
   "outputs": [],
   "source": [
    "# Case 13: Dictionary creation\n",
    "person = {'name': 'Dana', 'age': 30}\n",
    "print(person['name'])"
   ]
  },
  {
   "cell_type": "code",
   "execution_count": null,
   "id": "89aeebd5",
   "metadata": {},
   "outputs": [],
   "source": [
    "# Case 14: Add and update dictionary\n",
    "person['city'] = 'Paris'\n",
    "person['age'] = 31\n",
    "print(person)"
   ]
  },
  {
   "cell_type": "code",
   "execution_count": null,
   "id": "ce691fbc",
   "metadata": {},
   "outputs": [],
   "source": [
    "# Case 15: Dictionary methods\n",
    "print(list(person.keys()))\n",
    "print(list(person.values()))"
   ]
  },
  {
   "cell_type": "code",
   "execution_count": null,
   "id": "de1ee33b",
   "metadata": {},
   "outputs": [],
   "source": [
    "# Case 16: Set usage\n",
    "fruits = {'apple', 'banana', 'apple'}\n",
    "fruits.add('orange')\n",
    "print(fruits)"
   ]
  },
  {
   "cell_type": "code",
   "execution_count": null,
   "id": "b9f70fd3",
   "metadata": {},
   "outputs": [],
   "source": [
    "# Case 17: Set operations\n",
    "A = {1,2,3}\n",
    "B = {3,4,5}\n",
    "print(A & B, A | B, A - B)"
   ]
  },
  {
   "cell_type": "markdown",
   "id": "02955f9a",
   "metadata": {},
   "source": [
    "## 5. If Statements\n",
    "Conditionals control the flow of code."
   ]
  },
  {
   "cell_type": "code",
   "execution_count": null,
   "id": "2706f44b",
   "metadata": {},
   "outputs": [],
   "source": [
    "# Case 18: Basic if-else\n",
    "score = 75\n",
    "if score >= 60:\n",
    "    print('Pass')\n",
    "else:\n",
    "    print('Fail')"
   ]
  },
  {
   "cell_type": "code",
   "execution_count": null,
   "id": "82d4e48f",
   "metadata": {},
   "outputs": [],
   "source": [
    "# Case 19: if-elif-else\n",
    "num = 0\n",
    "if num > 0:\n",
    "    print('Positive')\n",
    "elif num < 0:\n",
    "    print('Negative')\n",
    "else:\n",
    "    print('Zero')"
   ]
  },
  {
   "cell_type": "markdown",
   "id": "4554873b",
   "metadata": {},
   "source": [
    "## 6. Loops\n",
    "For and while loops repeat code."
   ]
  },
  {
   "cell_type": "code",
   "execution_count": null,
   "id": "b6600eb2",
   "metadata": {},
   "outputs": [],
   "source": [
    "# Case 20: For loop with list\n",
    "for n in [1, 2, 3]:\n",
    "    print('Number:', n)"
   ]
  },
  {
   "cell_type": "code",
   "execution_count": null,
   "id": "c1e2d5f4",
   "metadata": {},
   "outputs": [],
   "source": [
    "# Case 21: For loop with range\n",
    "for i in range(3):\n",
    "    print('i:', i)"
   ]
  },
  {
   "cell_type": "code",
   "execution_count": null,
   "id": "cfe2f80f",
   "metadata": {},
   "outputs": [],
   "source": [
    "# Case 22: While loop\n",
    "count = 0\n",
    "while count < 3:\n",
    "    print('Counting:', count)\n",
    "    count += 1"
   ]
  },
  {
   "cell_type": "code",
   "execution_count": null,
   "id": "a6b6270e",
   "metadata": {},
   "outputs": [],
   "source": [
    "# Case 23: Break and continue\n",
    "for i in range(5):\n",
    "    if i == 3:\n",
    "        break\n",
    "    print('i:', i)"
   ]
  },
  {
   "cell_type": "code",
   "execution_count": null,
   "id": "e1a41a01",
   "metadata": {},
   "outputs": [],
   "source": [
    "# Case 24: Nested loops\n",
    "for x in range(2):\n",
    "    for y in range(2):\n",
    "        print(f'({x},{y})')"
   ]
  },
  {
   "cell_type": "markdown",
   "id": "0da3d571",
   "metadata": {},
   "source": [
    "## 7. Functions\n",
    "Functions organize reusable code blocks."
   ]
  },
  {
   "cell_type": "code",
   "execution_count": null,
   "id": "9863ba21",
   "metadata": {},
   "outputs": [],
   "source": [
    "# Case 25: Define and call function\n",
    "def greet(name):\n",
    "    print(f'Hello, {name}!')\n",
    "greet('Alex')"
   ]
  },
  {
   "cell_type": "code",
   "execution_count": null,
   "id": "b828e7fe",
   "metadata": {},
   "outputs": [],
   "source": [
    "# Case 26: Function with return value\n",
    "def square(n):\n",
    "    return n * n\n",
    "print(square(5))"
   ]
  },
  {
   "cell_type": "code",
   "execution_count": null,
   "id": "ce2b8bc6",
   "metadata": {},
   "outputs": [],
   "source": [
    "# Case 27: Default arguments\n",
    "def power(a, b=2):\n",
    "    return a ** b\n",
    "print(power(3), power(2,3))"
   ]
  },
  {
   "cell_type": "code",
   "execution_count": null,
   "id": "2aaf6b9a",
   "metadata": {},
   "outputs": [],
   "source": [
    "# Case 28: Keyword arguments\n",
    "def describe_pet(animal, name):\n",
    "    print(f'{name} is a {animal}')\n",
    "describe_pet(name='Max', animal='cat')"
   ]
  },
  {
   "cell_type": "markdown",
   "id": "5964400f",
   "metadata": {},
   "source": [
    "## 8. Scope, Lambda, Comprehensions"
   ]
  },
  {
   "cell_type": "code",
   "execution_count": null,
   "id": "60ad0209",
   "metadata": {},
   "outputs": [],
   "source": [
    "# Case 29: Variable scope\n",
    "def outer():\n",
    "    x = 'outer'\n",
    "    def inner():\n",
    "        x = 'inner'\n",
    "        print(x)\n",
    "    inner()\n",
    "    print(x)\n",
    "outer()"
   ]
  },
  {
   "cell_type": "code",
   "execution_count": null,
   "id": "815a10fc",
   "metadata": {},
   "outputs": [],
   "source": [
    "# Case 30: Lambda functions\n",
    "add = lambda x, y: x + y\n",
    "print(add(3, 4))"
   ]
  },
  {
   "cell_type": "code",
   "execution_count": null,
   "id": "b7d3117f",
   "metadata": {},
   "outputs": [],
   "source": [
    "# Case 31: List comprehensions\n",
    "squares = [i**2 for i in range(5)]\n",
    "print(squares)"
   ]
  },
  {
   "cell_type": "code",
   "execution_count": null,
   "id": "9bb676e7",
   "metadata": {},
   "outputs": [],
   "source": [
    "# Case 32: Dict comprehensions\n",
    "nums = [1,2,3]\n",
    "sq = {x: x*x for x in nums}\n",
    "print(sq)"
   ]
  },
  {
   "cell_type": "markdown",
   "id": "e6ab0a95",
   "metadata": {},
   "source": [
    "## 9. Strings & Methods\n",
    "Strings are sequences of characters."
   ]
  },
  {
   "cell_type": "code",
   "execution_count": null,
   "id": "31933299",
   "metadata": {},
   "outputs": [],
   "source": [
    "# Case 33: String methods\n",
    "s = 'Python Fun'\n",
    "print(s.lower(), s.upper(), s.replace('Fun','Rocks'))"
   ]
  },
  {
   "cell_type": "code",
   "execution_count": null,
   "id": "bd601afd",
   "metadata": {},
   "outputs": [],
   "source": [
    "# Case 34: String formatting\n",
    "name, score = 'Mia', 97\n",
    "print(f'{name} scored {score}')\n",
    "print('{} scored {}'.format(name, score))"
   ]
  },
  {
   "cell_type": "code",
   "execution_count": null,
   "id": "f4d5249d",
   "metadata": {},
   "outputs": [],
   "source": [
    "# Case 35: Multi-line strings\n",
    "long_text = '''Hello\n",
    "This is multi-line\n",
    "Python!'''\n",
    "print(long_text)"
   ]
  },
  {
   "cell_type": "markdown",
   "id": "34a91d2c",
   "metadata": {},
   "source": [
    "## 10. Exception Handling\n",
    "Handle errors gracefully."
   ]
  },
  {
   "cell_type": "code",
   "execution_count": null,
   "id": "334a8ef3",
   "metadata": {},
   "outputs": [],
   "source": [
    "# Case 36: Basic try-except\n",
    "try:\n",
    "    x = 1 / 0\n",
    "except ZeroDivisionError:\n",
    "    print('Cannot divide by zero')"
   ]
  },
  {
   "cell_type": "code",
   "execution_count": null,
   "id": "949c66df",
   "metadata": {},
   "outputs": [],
   "source": [
    "# Case 37: Catching other exceptions\n",
    "try:\n",
    "    int('abc')\n",
    "except ValueError as e:\n",
    "    print('Error:', e)"
   ]
  },
  {
   "cell_type": "code",
   "execution_count": null,
   "id": "0e26172c",
   "metadata": {},
   "outputs": [],
   "source": [
    "# Case 38: Finally block\n",
    "try:\n",
    "    x = 1\n",
    "finally:\n",
    "    print('Runs anyway')"
   ]
  },
  {
   "cell_type": "markdown",
   "id": "f7365307",
   "metadata": {},
   "source": [
    "## 11. File Handling\n",
    "Read/write files for persistent storage."
   ]
  },
  {
   "cell_type": "code",
   "execution_count": null,
   "id": "e6aaab98",
   "metadata": {},
   "outputs": [],
   "source": [
    "# Case 39: Write to file\n",
    "with open('demo.txt', 'w') as f:\n",
    "    f.write('Hello File!')"
   ]
  },
  {
   "cell_type": "code",
   "execution_count": null,
   "id": "6fa604dd",
   "metadata": {},
   "outputs": [],
   "source": [
    "# Case 40: Read from file\n",
    "with open('demo.txt', 'r') as f:\n",
    "    print(f.read())"
   ]
  },
  {
   "cell_type": "markdown",
   "id": "072084af",
   "metadata": {},
   "source": [
    "## 12. Modules & Imports\n",
    "Use built-in and custom modules."
   ]
  },
  {
   "cell_type": "code",
   "execution_count": null,
   "id": "814ce31c",
   "metadata": {},
   "outputs": [],
   "source": [
    "# Case 41: Import and use math module\n",
    "import math\n",
    "print(math.sqrt(81))\n",
    "print(math.pi)"
   ]
  },
  {
   "cell_type": "code",
   "execution_count": null,
   "id": "1b8cc237",
   "metadata": {},
   "outputs": [],
   "source": [
    "# Case 42: Random module\n",
    "import random\n",
    "print(random.randint(1,10))"
   ]
  },
  {
   "cell_type": "code",
   "execution_count": null,
   "id": "730e3028",
   "metadata": {},
   "outputs": [],
   "source": [
    "# Case 43: Import with alias\n",
    "import math as m\n",
    "print(m.cos(0))"
   ]
  },
  {
   "cell_type": "markdown",
   "id": "565e78dc",
   "metadata": {},
   "source": [
    "## 13. Classes & Objects\n",
    "Classes are blueprints for objects."
   ]
  },
  {
   "cell_type": "code",
   "execution_count": null,
   "id": "2fdaa9ed",
   "metadata": {},
   "outputs": [],
   "source": [
    "# Case 44: Create a class\n",
    "class Animal:\n",
    "    def __init__(self, name):\n",
    "        self.name = name\n",
    "    def speak(self):\n",
    "        print(self.name + ' says hi')\n",
    "a = Animal('Rex')\n",
    "a.speak()"
   ]
  },
  {
   "cell_type": "code",
   "execution_count": null,
   "id": "6b323b9c",
   "metadata": {},
   "outputs": [],
   "source": [
    "# Case 45: Class with method\n",
    "class Rectangle:\n",
    "    def __init__(self, w, h):\n",
    "        self.w = w\n",
    "        self.h = h\n",
    "    def area(self):\n",
    "        return self.w * self.h\n",
    "r = Rectangle(4, 5)\n",
    "print(r.area())"
   ]
  },
  {
   "cell_type": "markdown",
   "id": "5e369198",
   "metadata": {},
   "source": [
    "## 14. Inheritance & Special Methods"
   ]
  },
  {
   "cell_type": "code",
   "execution_count": null,
   "id": "6c39a6fd",
   "metadata": {},
   "outputs": [],
   "source": [
    "# Case 46: Inheritance\n",
    "class Dog(Animal):\n",
    "    def speak(self):\n",
    "        print(self.name + ' barks!')\n",
    "d = Dog('Buddy')\n",
    "d.speak()"
   ]
  },
  {
   "cell_type": "code",
   "execution_count": null,
   "id": "38a7c802",
   "metadata": {},
   "outputs": [],
   "source": [
    "# Case 47: Special methods (__str__)\n",
    "class Book:\n",
    "    def __init__(self, title):\n",
    "        self.title = title\n",
    "    def __str__(self):\n",
    "        return f'Book: {self.title}'\n",
    "b = Book('Python 101')\n",
    "print(b)"
   ]
  },
  {
   "cell_type": "markdown",
   "id": "63988753",
   "metadata": {},
   "source": [
    "## 15. Generators & Iterators"
   ]
  },
  {
   "cell_type": "code",
   "execution_count": null,
   "id": "0a65e76c",
   "metadata": {},
   "outputs": [],
   "source": [
    "# Case 48: Simple generator\n",
    "def countdown(n):\n",
    "    while n > 0:\n",
    "        yield n\n",
    "        n -= 1\n",
    "for i in countdown(3):\n",
    "    print(i)"
   ]
  },
  {
   "cell_type": "code",
   "execution_count": null,
   "id": "ef8d8c41",
   "metadata": {},
   "outputs": [],
   "source": [
    "# Case 49: Iterator with __iter__\n",
    "class Counter:\n",
    "    def __init__(self, low, high):\n",
    "        self.current = low\n",
    "        self.high = high\n",
    "    def __iter__(self):\n",
    "        return self\n",
    "    def __next__(self):\n",
    "        if self.current > self.high:\n",
    "            raise StopIteration\n",
    "        else:\n",
    "            self.current += 1\n",
    "            return self.current - 1\n",
    "for num in Counter(1,3):\n",
    "    print(num)"
   ]
  },
  {
   "cell_type": "markdown",
   "id": "53e3ac03",
   "metadata": {},
   "source": [
    "## 16. Decorators, Date, Practice"
   ]
  },
  {
   "cell_type": "code",
   "execution_count": null,
   "id": "00853915",
   "metadata": {},
   "outputs": [],
   "source": [
    "# Case 50: Simple decorator\n",
    "def simple_decorator(func):\n",
    "    def wrapper():\n",
    "        print('Before')\n",
    "        func()\n",
    "        print('After')\n",
    "    return wrapper\n",
    "@simple_decorator\n",
    "def hello():\n",
    "    print('Hello!')\n",
    "hello()"
   ]
  },
  {
   "cell_type": "code",
   "execution_count": null,
   "id": "d53aafd7",
   "metadata": {},
   "outputs": [],
   "source": [
    "# Case 51: Working with dates\n",
    "from datetime import datetime\n",
    "today = datetime.now()\n",
    "print(today.strftime('%Y-%m-%d %H:%M'))"
   ]
  },
  {
   "cell_type": "code",
   "execution_count": null,
   "id": "c0730db3",
   "metadata": {},
   "outputs": [],
   "source": [
    "# Case 52: Practice - FizzBuzz\n",
    "for i in range(1, 16):\n",
    "    if i % 15 == 0:\n",
    "        print('FizzBuzz')\n",
    "    elif i % 3 == 0:\n",
    "        print('Fizz')\n",
    "    elif i % 5 == 0:\n",
    "        print('Buzz')\n",
    "    else:\n",
    "        print(i)"
   ]
  },
  {
   "cell_type": "markdown",
   "id": "0072d972",
   "metadata": {},
   "source": [
    "## 17. Resources & Next Steps\n",
    "- [Python Official Tutorial](https://docs.python.org/3/tutorial/)\n",
    "- [Real Python](https://realpython.com/)\n",
    "- [Learn Python (Interactive)](https://www.learnpython.org/)\n",
    "\n",
    "Congrats on completing the comprehensive Python beginner notebook! 🎉"
   ]
  }
 ],
 "metadata": {},
 "nbformat": 4,
 "nbformat_minor": 5
}
