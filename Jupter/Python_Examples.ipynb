{
 "cells": [
  {
   "cell_type": "markdown",
   "id": "d5a2c079",
   "metadata": {},
   "source": [
    "# Python 50+ Examples & Theory - Comprehensive Notebook"
   ]
  },
  {
   "cell_type": "markdown",
   "id": "c695e619",
   "metadata": {},
   "source": [
    "## 1. Variables and Printing"
   ]
  },
  {
   "cell_type": "code",
   "execution_count": null,
   "id": "2f121839",
   "metadata": {},
   "outputs": [],
   "source": [
    "# 1. Assign and print\n",
    "x = 5\n",
    "print(x)"
   ]
  },
  {
   "cell_type": "code",
   "execution_count": null,
   "id": "8c431f56",
   "metadata": {},
   "outputs": [],
   "source": [
    "# 2. Multiple variables\n",
    "a, b, c = 1, 2.5, 'hello'\n",
    "print(a, b, c)"
   ]
  },
  {
   "cell_type": "code",
   "execution_count": null,
   "id": "ec575828",
   "metadata": {},
   "outputs": [],
   "source": [
    "# 3. Type check\n",
    "print(type(a), type(b), type(c))"
   ]
  },
  {
   "cell_type": "markdown",
   "id": "9e562269",
   "metadata": {},
   "source": [
    "## 2. Data Types"
   ]
  },
  {
   "cell_type": "code",
   "execution_count": 1,
   "id": "96e1aba4",
   "metadata": {},
   "outputs": [
    {
     "name": "stdout",
     "output_type": "stream",
     "text": [
      "10 2.3 Python True\n"
     ]
    }
   ],
   "source": [
    "# 4. Integer, float, string, boolean\n",
    "n = 10\n",
    "f = 2.3\n",
    "s = 'Python'\n",
    "b = True\n",
    "print(n, f, s, b)"
   ]
  },
  {
   "cell_type": "code",
   "execution_count": 2,
   "id": "921ceac1",
   "metadata": {},
   "outputs": [
    {
     "name": "stdout",
     "output_type": "stream",
     "text": [
      "130\n"
     ]
    }
   ],
   "source": [
    "# 5. Type casting\n",
    "s = '123'\n",
    "i = int(s)\n",
    "print(i + 7)"
   ]
  },
  {
   "cell_type": "code",
   "execution_count": null,
   "id": "ff3b03d4",
   "metadata": {},
   "outputs": [],
   "source": [
    "# 6. Bool logic\n",
    "print(True and False, True or False, not True)"
   ]
  },
  {
   "cell_type": "markdown",
   "id": "7179e341",
   "metadata": {},
   "source": [
    "## 3. Operators"
   ]
  },
  {
   "cell_type": "code",
   "execution_count": null,
   "id": "89a59d3e",
   "metadata": {},
   "outputs": [],
   "source": [
    "# 7. Arithmetic operators\n",
    "x = 7\n",
    "y = 3\n",
    "print(x + y, x - y, x * y, x / y, x ** y, x % y, x // y)"
   ]
  },
  {
   "cell_type": "code",
   "execution_count": 3,
   "id": "7a38f026",
   "metadata": {},
   "outputs": [
    {
     "name": "stdout",
     "output_type": "stream",
     "text": [
      "36\n"
     ]
    }
   ],
   "source": [
    "# 8. Assignment operators\n",
    "x = 10\n",
    "x += 2\n",
    "x *= 3\n",
    "print(x)"
   ]
  },
  {
   "cell_type": "code",
   "execution_count": null,
   "id": "3f3aec60",
   "metadata": {},
   "outputs": [],
   "source": [
    "# 9. Comparison operators\n",
    "print(5 > 3, 5 == 5, 5 != 6, 3 <= 1)"
   ]
  },
  {
   "cell_type": "markdown",
   "id": "04708873",
   "metadata": {},
   "source": [
    "## 4. Lists"
   ]
  },
  {
   "cell_type": "code",
   "execution_count": 4,
   "id": "3cbae0c1",
   "metadata": {},
   "outputs": [
    {
     "name": "stdout",
     "output_type": "stream",
     "text": [
      "1 4\n"
     ]
    }
   ],
   "source": [
    "# 10. List creation and indexing\n",
    "lst = [1, 2, 3, 4]\n",
    "print(lst[0], lst[-1])"
   ]
  },
  {
   "cell_type": "code",
   "execution_count": 8,
   "id": "b0799185",
   "metadata": {},
   "outputs": [
    {
     "name": "stdout",
     "output_type": "stream",
     "text": [
      "[3, 5, 5, 5, 5]\n"
     ]
    }
   ],
   "source": [
    "# 11. Append and remove\n",
    "lst.append(5)\n",
    "lst.remove(4)\n",
    "lst.remove(1)\n",
    "print(lst)"
   ]
  },
  {
   "cell_type": "code",
   "execution_count": 9,
   "id": "0cc5c7b8",
   "metadata": {},
   "outputs": [
    {
     "name": "stdout",
     "output_type": "stream",
     "text": [
      "[5, 5] [5, 5, 5, 5, 3]\n"
     ]
    }
   ],
   "source": [
    "# 12. Slicing\n",
    "print(lst[1:3], lst[::-1])"
   ]
  },
  {
   "cell_type": "code",
   "execution_count": 10,
   "id": "fca05fa1",
   "metadata": {},
   "outputs": [
    {
     "name": "stdout",
     "output_type": "stream",
     "text": [
      "5 3 5 23\n"
     ]
    }
   ],
   "source": [
    "# 13. List methods\n",
    "print(len(lst), min(lst), max(lst), sum(lst))"
   ]
  },
  {
   "cell_type": "code",
   "execution_count": 11,
   "id": "f414144e",
   "metadata": {},
   "outputs": [
    {
     "name": "stdout",
     "output_type": "stream",
     "text": [
      "3\n"
     ]
    }
   ],
   "source": [
    "# 14. Nested list\n",
    "mat = [[1,2], [3,4]]\n",
    "print(mat[1][0])"
   ]
  },
  {
   "cell_type": "markdown",
   "id": "e052df4d",
   "metadata": {},
   "source": [
    "## 5. Tuples"
   ]
  },
  {
   "cell_type": "code",
   "execution_count": 12,
   "id": "52f44766",
   "metadata": {},
   "outputs": [
    {
     "name": "stdout",
     "output_type": "stream",
     "text": [
      "5\n"
     ]
    }
   ],
   "source": [
    "# 15. Tuple creation\n",
    "tup = (4, 5, 6)\n",
    "print(tup[1])"
   ]
  },
  {
   "cell_type": "code",
   "execution_count": 13,
   "id": "8819766c",
   "metadata": {},
   "outputs": [
    {
     "name": "stdout",
     "output_type": "stream",
     "text": [
      "4 5 6\n"
     ]
    }
   ],
   "source": [
    "# 16. Tuple unpacking\n",
    "a, b, c = tup\n",
    "print(a, b, c)"
   ]
  },
  {
   "cell_type": "code",
   "execution_count": 14,
   "id": "28cf99a5",
   "metadata": {},
   "outputs": [
    {
     "name": "stdout",
     "output_type": "stream",
     "text": [
      "Error: 'tuple' object does not support item assignment\n"
     ]
    }
   ],
   "source": [
    "# 17. Tuple immutability\n",
    "try:\n",
    "    tup[0] = 10\n",
    "except Exception as e:\n",
    "    print('Error:', e)"
   ]
  },
  {
   "cell_type": "markdown",
   "id": "caa9b032",
   "metadata": {},
   "source": [
    "## 6. Dictionaries"
   ]
  },
  {
   "cell_type": "code",
   "execution_count": 15,
   "id": "dd2acd01",
   "metadata": {},
   "outputs": [
    {
     "name": "stdout",
     "output_type": "stream",
     "text": [
      "1\n"
     ]
    }
   ],
   "source": [
    "# 18. Dictionary creation\n",
    "d = {'a': 1, 'b': 2}\n",
    "print(d['a'])"
   ]
  },
  {
   "cell_type": "code",
   "execution_count": 16,
   "id": "c47c7977",
   "metadata": {},
   "outputs": [
    {
     "name": "stdout",
     "output_type": "stream",
     "text": [
      "{'b': 4, 'c': 3}\n"
     ]
    }
   ],
   "source": [
    "# 19. Add/update/delete key\n",
    "d['c'] = 3\n",
    "d['b'] = 4\n",
    "del d['a']\n",
    "print(d)"
   ]
  },
  {
   "cell_type": "code",
   "execution_count": 17,
   "id": "7678aa70",
   "metadata": {},
   "outputs": [
    {
     "name": "stdout",
     "output_type": "stream",
     "text": [
      "b 4\n",
      "c 3\n"
     ]
    }
   ],
   "source": [
    "# 20. Loop through dictionary\n",
    "for key, value in d.items():\n",
    "    print(key, value)"
   ]
  },
  {
   "cell_type": "code",
   "execution_count": 18,
   "id": "35558ed3",
   "metadata": {},
   "outputs": [
    {
     "name": "stdout",
     "output_type": "stream",
     "text": [
      "dict_keys(['b', 'c']) dict_values([4, 3]) 3 missing\n"
     ]
    }
   ],
   "source": [
    "# 21. Dictionary methods\n",
    "print(d.keys(), d.values(), d.get('c'), d.get('z', 'missing'))"
   ]
  },
  {
   "cell_type": "markdown",
   "id": "839c8e90",
   "metadata": {},
   "source": [
    "## 7. Sets"
   ]
  },
  {
   "cell_type": "code",
   "execution_count": 19,
   "id": "b6d01bfc",
   "metadata": {},
   "outputs": [
    {
     "name": "stdout",
     "output_type": "stream",
     "text": [
      "{1, 3, 4}\n"
     ]
    }
   ],
   "source": [
    "# 22. Set creation and add/remove\n",
    "s = {1, 2, 3}\n",
    "s.add(4)\n",
    "s.remove(2)\n",
    "print(s)"
   ]
  },
  {
   "cell_type": "code",
   "execution_count": null,
   "id": "b20e9e1a",
   "metadata": {},
   "outputs": [],
   "source": [
    "# 23. Set operations\n",
    "A = {1,2,3,4}\n",
    "B = {3,4,5,6}\n",
    "print('Union:', A | B)\n",
    "print('Intersection:', A & B)\n",
    "print('Difference:', A - B)"
   ]
  },
  {
   "cell_type": "markdown",
   "id": "cf5b39bf",
   "metadata": {},
   "source": [
    "## 8. If/Elif/Else"
   ]
  },
  {
   "cell_type": "code",
   "execution_count": null,
   "id": "94ad6389",
   "metadata": {},
   "outputs": [],
   "source": [
    "# 24. Basic if\n",
    "age = 19\n",
    "if age >= 18:\n",
    "    print('Adult')"
   ]
  },
  {
   "cell_type": "code",
   "execution_count": null,
   "id": "a1565bbf",
   "metadata": {},
   "outputs": [],
   "source": [
    "# 25. If-elif-else\n",
    "x = 0\n",
    "if x > 0:\n",
    "    print('Positive')\n",
    "elif x == 0:\n",
    "    print('Zero')\n",
    "else:\n",
    "    print('Negative')"
   ]
  },
  {
   "cell_type": "markdown",
   "id": "4e824259",
   "metadata": {},
   "source": [
    "## 9. Loops"
   ]
  },
  {
   "cell_type": "code",
   "execution_count": 20,
   "id": "3afeaeb0",
   "metadata": {},
   "outputs": [
    {
     "name": "stdout",
     "output_type": "stream",
     "text": [
      "0\n",
      "1\n",
      "2\n"
     ]
    }
   ],
   "source": [
    "# 26. For loop over range\n",
    "for i in range(3):\n",
    "    print(i)"
   ]
  },
  {
   "cell_type": "code",
   "execution_count": null,
   "id": "0af2d93a",
   "metadata": {},
   "outputs": [],
   "source": [
    "# 27. While loop\n",
    "c = 0\n",
    "while c < 2:\n",
    "    print('Count', c)\n",
    "    c += 1"
   ]
  },
  {
   "cell_type": "code",
   "execution_count": null,
   "id": "3c210831",
   "metadata": {},
   "outputs": [],
   "source": [
    "# 28. Break/continue\n",
    "for n in range(5):\n",
    "    if n == 3:\n",
    "        break\n",
    "    if n == 1:\n",
    "        continue\n",
    "    print(n)"
   ]
  },
  {
   "cell_type": "code",
   "execution_count": 21,
   "id": "686e2251",
   "metadata": {},
   "outputs": [
    {
     "name": "stdout",
     "output_type": "stream",
     "text": [
      "a\n",
      "b\n",
      "c\n"
     ]
    }
   ],
   "source": [
    "# 29. Loop over string\n",
    "for ch in 'abc':\n",
    "    print(ch)"
   ]
  },
  {
   "cell_type": "code",
   "execution_count": 22,
   "id": "cb33e9ad",
   "metadata": {},
   "outputs": [
    {
     "name": "stdout",
     "output_type": "stream",
     "text": [
      "0 red\n",
      "1 green\n",
      "red 10\n",
      "green 20\n"
     ]
    }
   ],
   "source": [
    "# 30. Enumerate and zip\n",
    "colors = ['red', 'green']\n",
    "nums = [10, 20]\n",
    "for idx, color in enumerate(colors):\n",
    "    print(idx, color)\n",
    "for color, num in zip(colors, nums):\n",
    "    print(color, num)"
   ]
  },
  {
   "cell_type": "markdown",
   "id": "43691000",
   "metadata": {},
   "source": [
    "## 10. Functions"
   ]
  },
  {
   "cell_type": "code",
   "execution_count": null,
   "id": "626532b7",
   "metadata": {},
   "outputs": [],
   "source": [
    "# 31. Function definition\n",
    "def say_hi():\n",
    "    print('Hi!')\n",
    "say_hi()"
   ]
  },
  {
   "cell_type": "code",
   "execution_count": null,
   "id": "9202f026",
   "metadata": {},
   "outputs": [],
   "source": [
    "# 32. Function with arguments\n",
    "def add(a, b):\n",
    "    return a + b\n",
    "print(add(3, 4))"
   ]
  },
  {
   "cell_type": "code",
   "execution_count": 26,
   "id": "6c1b14d0",
   "metadata": {},
   "outputs": [
    {
     "name": "stdout",
     "output_type": "stream",
     "text": [
      "9 27\n"
     ]
    }
   ],
   "source": [
    "# 33. Default and named arguments\n",
    "def power(a, b=2):\n",
    "    return a ** b\n",
    "print(power(3), power(3,3))"
   ]
  },
  {
   "cell_type": "code",
   "execution_count": 25,
   "id": "1d8dc8ce",
   "metadata": {},
   "outputs": [
    {
     "name": "stdout",
     "output_type": "stream",
     "text": [
      "Help on function greet in module __main__:\n",
      "\n",
      "greet(name)\n",
      "    Greet someone.\n",
      "\n"
     ]
    }
   ],
   "source": [
    "# 34. Docstrings\n",
    "def greet(name):\n",
    "    '''Greet someone.'''\n",
    "    print('Hello', name)\n",
    "help(greet)"
   ]
  },
  {
   "cell_type": "code",
   "execution_count": 30,
   "id": "dfbeab91",
   "metadata": {},
   "outputs": [
    {
     "name": "stdout",
     "output_type": "stream",
     "text": [
      "8\n",
      "Help on function add in module __main__:\n",
      "\n",
      "add(a, b)\n",
      "    Add two numbers and return the result.\n",
      "    \n",
      "    Parameters:\n",
      "    a (int or float): First number\n",
      "    b (int or float): Second number\n",
      "    \n",
      "    Returns:\n",
      "    int or float: The sum\n",
      "\n"
     ]
    }
   ],
   "source": [
    "def add(a, b):\n",
    "    \"\"\"\n",
    "    Add two numbers and return the result.\n",
    "\n",
    "    Parameters:\n",
    "    a (int or float): First number\n",
    "    b (int or float): Second number\n",
    "\n",
    "    Returns:\n",
    "    int or float: The sum\n",
    "    \"\"\"\n",
    "    return a + b\n",
    "print(add(5, 3))\n",
    "help(add)"
   ]
  },
  {
   "cell_type": "code",
   "execution_count": 31,
   "id": "f624b382",
   "metadata": {},
   "outputs": [
    {
     "name": "stdout",
     "output_type": "stream",
     "text": [
      "1 6\n"
     ]
    }
   ],
   "source": [
    "# 35. Return multiple values\n",
    "def min_max(lst):\n",
    "    return min(lst), max(lst)\n",
    "mn, mx = min_max([3,6,1])\n",
    "print(mn, mx)"
   ]
  },
  {
   "cell_type": "markdown",
   "id": "2a159c46",
   "metadata": {},
   "source": [
    "## 11. Lambda, Map, Filter, List/Dict Comprehensions"
   ]
  },
  {
   "cell_type": "code",
   "execution_count": 32,
   "id": "6eaa333c",
   "metadata": {},
   "outputs": [
    {
     "name": "stdout",
     "output_type": "stream",
     "text": [
      "25\n"
     ]
    }
   ],
   "source": [
    "# 36. Lambda function\n",
    "square = lambda x: x*x\n",
    "print(square(5))"
   ]
  },
  {
   "cell_type": "code",
   "execution_count": 33,
   "id": "92db7017",
   "metadata": {},
   "outputs": [
    {
     "name": "stdout",
     "output_type": "stream",
     "text": [
      "[1, 4, 9, 16]\n",
      "[2, 4]\n"
     ]
    }
   ],
   "source": [
    "# 37. Map and filter\n",
    "nums = [1,2,3,4]\n",
    "squared = list(map(lambda x: x*x, nums))\n",
    "print(squared)\n",
    "even = list(filter(lambda x: x%2==0, nums))\n",
    "print(even)"
   ]
  },
  {
   "cell_type": "code",
   "execution_count": 34,
   "id": "1f02e81f",
   "metadata": {},
   "outputs": [
    {
     "name": "stdout",
     "output_type": "stream",
     "text": [
      "[0, 2, 4, 6, 8]\n"
     ]
    }
   ],
   "source": [
    "# 38. List comprehension\n",
    "evens = [x for x in range(10) if x%2==0]\n",
    "print(evens)"
   ]
  },
  {
   "cell_type": "code",
   "execution_count": 35,
   "id": "305e70c5",
   "metadata": {},
   "outputs": [
    {
     "name": "stdout",
     "output_type": "stream",
     "text": [
      "{0: 0, 1: 1, 2: 4, 3: 9, 4: 16}\n"
     ]
    }
   ],
   "source": [
    "# 39. Dict comprehension\n",
    "squares = {x: x**2 for x in range(5)}\n",
    "print(squares)"
   ]
  },
  {
   "cell_type": "markdown",
   "id": "9cfe7a05",
   "metadata": {},
   "source": [
    "## 12. Strings"
   ]
  },
  {
   "cell_type": "code",
   "execution_count": 36,
   "id": "5b531812",
   "metadata": {},
   "outputs": [
    {
     "name": "stdout",
     "output_type": "stream",
     "text": [
      "ello HELLO PYTHON hello world\n"
     ]
    }
   ],
   "source": [
    "# 40. String slicing and methods\n",
    "s = 'hello python'\n",
    "print(s[1:5], s.upper(), s.replace('python','world'))"
   ]
  },
  {
   "cell_type": "code",
   "execution_count": 37,
   "id": "b63e5b0a",
   "metadata": {},
   "outputs": [
    {
     "name": "stdout",
     "output_type": "stream",
     "text": [
      "one two three\n",
      "['one', 'two', 'three']\n"
     ]
    }
   ],
   "source": [
    "# 41. Join and split\n",
    "words = ['one', 'two', 'three']\n",
    "sentence = ' '.join(words)\n",
    "print(sentence)\n",
    "print(sentence.split())"
   ]
  },
  {
   "cell_type": "code",
   "execution_count": 38,
   "id": "aa4a7ed9",
   "metadata": {},
   "outputs": [
    {
     "name": "stdout",
     "output_type": "stream",
     "text": [
      "Mia scored 97\n"
     ]
    }
   ],
   "source": [
    "# 42. f-string formatting\n",
    "name, score = 'Mia', 97\n",
    "print(f'{name} scored {score}')"
   ]
  },
  {
   "cell_type": "markdown",
   "id": "2a0d9744",
   "metadata": {},
   "source": [
    "## 13. Exception Handling"
   ]
  },
  {
   "cell_type": "code",
   "execution_count": null,
   "id": "67e984b2",
   "metadata": {},
   "outputs": [],
   "source": [
    "# 43. Try/except\n",
    "try:\n",
    "    print(1/0)\n",
    "except ZeroDivisionError:\n",
    "    print('Cannot divide by zero!')"
   ]
  },
  {
   "cell_type": "code",
   "execution_count": null,
   "id": "23d3401a",
   "metadata": {},
   "outputs": [],
   "source": [
    "# 44. Try/except/finally\n",
    "try:\n",
    "    int('hello')\n",
    "except Exception as e:\n",
    "    print('Error:', e)\n",
    "finally:\n",
    "    print('Done')"
   ]
  },
  {
   "cell_type": "markdown",
   "id": "1a921578",
   "metadata": {},
   "source": [
    "## 14. File Handling"
   ]
  },
  {
   "cell_type": "code",
   "execution_count": null,
   "id": "eba5015c",
   "metadata": {},
   "outputs": [],
   "source": [
    "# 45. Write/read file\n",
    "with open('test.txt','w') as f:\n",
    "    f.write('line 1\\nline 2')\n",
    "with open('test.txt') as f:\n",
    "    print(f.read())"
   ]
  },
  {
   "cell_type": "code",
   "execution_count": null,
   "id": "3af47883",
   "metadata": {},
   "outputs": [],
   "source": [
    "# 46. Read file line by line\n",
    "with open('test.txt') as f:\n",
    "    for line in f:\n",
    "        print(line.strip())"
   ]
  },
  {
   "cell_type": "markdown",
   "id": "1fe683d0",
   "metadata": {},
   "source": [
    "## 15. Standard Modules"
   ]
  },
  {
   "cell_type": "code",
   "execution_count": null,
   "id": "3d313276",
   "metadata": {},
   "outputs": [],
   "source": [
    "# 47. Math and random\n",
    "import math, random\n",
    "print(math.pi, random.randint(1,10))"
   ]
  },
  {
   "cell_type": "code",
   "execution_count": null,
   "id": "547632eb",
   "metadata": {},
   "outputs": [],
   "source": [
    "# 48. Datetime\n",
    "from datetime import datetime\n",
    "t = datetime.now()\n",
    "print(t.strftime('%Y-%m-%d'))"
   ]
  },
  {
   "cell_type": "markdown",
   "id": "b5a944ac",
   "metadata": {},
   "source": [
    "## 16. Classes and Objects"
   ]
  },
  {
   "cell_type": "code",
   "execution_count": null,
   "id": "a09b2d79",
   "metadata": {},
   "outputs": [],
   "source": [
    "# 49. Basic class\n",
    "class Dog:\n",
    "    def __init__(self, name):\n",
    "        self.name = name\n",
    "    def bark(self):\n",
    "        print(self.name + ' barks!')\n",
    "d = Dog('Fido')\n",
    "d.bark()"
   ]
  },
  {
   "cell_type": "code",
   "execution_count": null,
   "id": "1b11d851",
   "metadata": {},
   "outputs": [],
   "source": [
    "# 50. Inheritance\n",
    "class Puppy(Dog):\n",
    "    def bark(self):\n",
    "        print(self.name + ' yips!')\n",
    "p = Puppy('Rex')\n",
    "p.bark()"
   ]
  },
  {
   "cell_type": "code",
   "execution_count": 2,
   "id": "77d12417",
   "metadata": {},
   "outputs": [
    {
     "name": "stdout",
     "output_type": "stream",
     "text": [
      "<__main__.Book object at 0x110e25550>\n"
     ]
    }
   ],
   "source": [
    "# 51. Special methods\n",
    "class Book:\n",
    "    def __init__(self, title):\n",
    "        self.title = title\n",
    "    # def __str__(self):\n",
    "    #     return f'Book: {self.title}'\n",
    "b = Book('Python 101')\n",
    "print(b)"
   ]
  },
  {
   "cell_type": "markdown",
   "id": "ba1d662e",
   "metadata": {},
   "source": [
    "## 17. Advanced OOP"
   ]
  },
  {
   "cell_type": "code",
   "execution_count": 3,
   "id": "7325e92d",
   "metadata": {},
   "outputs": [
    {
     "name": "stdout",
     "output_type": "stream",
     "text": [
      "static!\n",
      "class! <class '__main__.Example'>\n"
     ]
    }
   ],
   "source": [
    "# 52. Static and class methods\n",
    "class Example:\n",
    "    @staticmethod\n",
    "    def stat():\n",
    "        print('static!')\n",
    "    @classmethod\n",
    "    def cls(cls):\n",
    "        print('class!', cls)\n",
    "Example.stat()\n",
    "Example.cls()"
   ]
  },
  {
   "cell_type": "code",
   "execution_count": 4,
   "id": "34ef479f",
   "metadata": {},
   "outputs": [
    {
     "name": "stdout",
     "output_type": "stream",
     "text": [
      "3\n",
      "2\n",
      "1\n"
     ]
    }
   ],
   "source": [
    "# 53. Iterator\n",
    "class Count:\n",
    "    def __init__(self, n): self.n=n\n",
    "    def __iter__(self): return self\n",
    "    def __next__(self):\n",
    "        if self.n==0: raise StopIteration\n",
    "        self.n -= 1\n",
    "        return self.n+1\n",
    "for i in Count(3): print(i)"
   ]
  },
  {
   "cell_type": "code",
   "execution_count": 7,
   "id": "f92eaeb6",
   "metadata": {},
   "outputs": [
    {
     "name": "stdout",
     "output_type": "stream",
     "text": [
      "3\n",
      "2\n"
     ]
    }
   ],
   "source": [
    "# 54. Generator\n",
    "def gen():\n",
    "    yield 3\n",
    "    yield 2\n",
    "for i in gen():\n",
    "    print(i)"
   ]
  },
  {
   "cell_type": "markdown",
   "id": "4ca54d34",
   "metadata": {},
   "source": [
    "## 18. Decorators and Useful Idioms"
   ]
  },
  {
   "cell_type": "code",
   "execution_count": null,
   "id": "ee3d56e6",
   "metadata": {},
   "outputs": [],
   "source": [
    "# 55. Simple decorator\n",
    "def decor(f):\n",
    "    def wrapper():\n",
    "        print('start')\n",
    "        f()\n",
    "        print('end')\n",
    "    return wrapper\n",
    "@decor\n",
    "def hi(): print('hi!')\n",
    "hi()"
   ]
  },
  {
   "cell_type": "code",
   "execution_count": null,
   "id": "531992dc",
   "metadata": {},
   "outputs": [],
   "source": [
    "# 56. List flattening\n",
    "mat = [[1,2],[3,4]]\n",
    "flat = [x for row in mat for x in row]\n",
    "print(flat)"
   ]
  },
  {
   "cell_type": "markdown",
   "id": "23de169e",
   "metadata": {},
   "source": [
    "## 19. Practice Problems and Mini-Projects"
   ]
  },
  {
   "cell_type": "code",
   "execution_count": null,
   "id": "72f83d48",
   "metadata": {},
   "outputs": [],
   "source": [
    "# 57. FizzBuzz\n",
    "for i in range(1,21):\n",
    "    if i%15==0:\n",
    "        print('FizzBuzz')\n",
    "    elif i%3==0:\n",
    "        print('Fizz')\n",
    "    elif i%5==0:\n",
    "        print('Buzz')\n",
    "    else:\n",
    "        print(i)"
   ]
  },
  {
   "cell_type": "code",
   "execution_count": 8,
   "id": "abffc5bc",
   "metadata": {},
   "outputs": [
    {
     "name": "stdout",
     "output_type": "stream",
     "text": [
      "True\n"
     ]
    }
   ],
   "source": [
    "# 58. Palindrome check\n",
    "s = 'radar'\n",
    "print(s == s[::-1])"
   ]
  },
  {
   "cell_type": "code",
   "execution_count": null,
   "id": "38eda89b",
   "metadata": {},
   "outputs": [],
   "source": [
    "# 59. Prime check\n",
    "def is_prime(n):\n",
    "    if n<2: return False\n",
    "    for i in range(2,int(n**0.5)+1):\n",
    "        if n%i==0: return False\n",
    "    return True\n",
    "print(is_prime(17), is_prime(12))"
   ]
  },
  {
   "cell_type": "code",
   "execution_count": 9,
   "id": "72c5c64d",
   "metadata": {},
   "outputs": [
    {
     "name": "stdout",
     "output_type": "stream",
     "text": [
      "{'to': 2, 'be': 2, 'or': 1, 'not': 1}\n"
     ]
    }
   ],
   "source": [
    "# 60. Word count in a sentence\n",
    "sentence = 'to be or not to be'\n",
    "counts = {}\n",
    "for word in sentence.split():\n",
    "    counts[word] = counts.get(word,0) + 1\n",
    "print(counts)"
   ]
  },
  {
   "cell_type": "code",
   "execution_count": null,
   "id": "9635a113",
   "metadata": {},
   "outputs": [],
   "source": [
    "# 61. Reverse words in a sentence\n",
    "sentence = 'hello world'\n",
    "print(' '.join(sentence.split()[::-1]))"
   ]
  },
  {
   "cell_type": "code",
   "execution_count": 10,
   "id": "26473c6b",
   "metadata": {},
   "outputs": [
    {
     "name": "stdout",
     "output_type": "stream",
     "text": [
      "{2, 4}\n"
     ]
    }
   ],
   "source": [
    "# 62. Find duplicates in a list\n",
    "lst = [1,2,2,3,4,4,4]\n",
    "dups = set([x for x in lst if lst.count(x) > 1])\n",
    "print(dups)"
   ]
  },
  {
   "cell_type": "code",
   "execution_count": null,
   "id": "8c01a2aa",
   "metadata": {},
   "outputs": [],
   "source": [
    "# 63. Simple calculator\n",
    "def calc(a, b, op):\n",
    "    if op=='+': return a+b\n",
    "    elif op=='-': return a-b\n",
    "    elif op=='*': return a*b\n",
    "    elif op=='/': return a/b\n",
    "    else: return None\n",
    "print(calc(4,2,'+'), calc(4,2,'*'))"
   ]
  },
  {
   "cell_type": "code",
   "execution_count": null,
   "id": "55ca57d5",
   "metadata": {},
   "outputs": [],
   "source": [
    "# 64. Guess the number (logic only)\n",
    "import random\n",
    "answer = random.randint(1,5)\n",
    "guess = 3\n",
    "if guess == answer:\n",
    "    print('Correct!')\n",
    "else:\n",
    "    print(f'Wrong, answer was {answer}')"
   ]
  },
  {
   "cell_type": "markdown",
   "id": "d4d148a3",
   "metadata": {},
   "source": [
    "## Resources & Next Steps\n",
    "- [Python Official Tutorial](https://docs.python.org/3/tutorial/)\n",
    "- [Real Python](https://realpython.com/)\n",
    "- [Learn Python (Interactive)](https://www.learnpython.org/)\n",
    "\n",
    "You now have 60+ examples! Try modifying each or create your own."
   ]
  }
 ],
 "metadata": {
  "kernelspec": {
   "display_name": ".venv",
   "language": "python",
   "name": "python3"
  },
  "language_info": {
   "codemirror_mode": {
    "name": "ipython",
    "version": 3
   },
   "file_extension": ".py",
   "mimetype": "text/x-python",
   "name": "python",
   "nbconvert_exporter": "python",
   "pygments_lexer": "ipython3",
   "version": "3.9.6"
  }
 },
 "nbformat": 4,
 "nbformat_minor": 5
}
