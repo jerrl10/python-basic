{
 "cells": [
  {
   "cell_type": "code",
   "execution_count": null,
   "id": "edba040d",
   "metadata": {},
   "outputs": [],
   "source": [
    "def sort_by_insertion(list_num):\n",
    "    for i in range(1, len(list_num)):\n",
    "        j = i-1\n",
    "        next_value = list_num[i]\n",
    "        while (list_num[j] > next_value) and (j >= 0):\n",
    "            list_num[j+1] = list_num[j]\n",
    "            j = j-1\n",
    "            list_num[j+1] = next_value\n",
    "    return list_num\n",
    "\n",
    "\n",
    "list_num = [6, 2, 1, 7, 9, 3, -1, 5, 20, 15, 13, 2]\n",
    "print(sort_by_insertion(list_num))"
   ]
  }
 ],
 "metadata": {
  "language_info": {
   "name": "python"
  }
 },
 "nbformat": 4,
 "nbformat_minor": 5
}
