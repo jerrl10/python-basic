{
 "cells": [
  {
   "cell_type": "code",
   "execution_count": null,
   "id": "1e4f398a",
   "metadata": {},
   "outputs": [],
   "source": [
    "def sort_by_selection(list_of_numbers):\n",
    "    for i in range(len(list_of_numbers) - 1):\n",
    "        min_value = i\n",
    "        for j in range(i, len(list_of_numbers)):\n",
    "            if list_of_numbers[j] < list_of_numbers[min_value]:\n",
    "                min_value = j\n",
    "        temp = list_of_numbers[i]\n",
    "        list_of_numbers[i] = list_of_numbers[min_value]\n",
    "        list_of_numbers[min_value] = temp\n",
    "    return list_of_numbers\n",
    "\n",
    "\n",
    "list_num = [6, 2, 1, 7, 9, 3]\n",
    "print(sort_by_selection(list_num))"
   ]
  }
 ],
 "metadata": {
  "language_info": {
   "name": "python"
  }
 },
 "nbformat": 4,
 "nbformat_minor": 5
}
