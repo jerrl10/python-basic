{
 "cells": [
  {
   "cell_type": "code",
   "execution_count": null,
   "id": "037a27e1",
   "metadata": {},
   "outputs": [],
   "source": [
    "from bubble_sort import sort_bubble\n",
    "from merge_sort import merge_sort\n",
    "\n",
    "\n",
    "def first_solution_sort(numbers):\n",
    "    for i in range(len(numbers)):\n",
    "        numbers[i] = numbers[i] * numbers[i]\n",
    "    numbers.sort()\n",
    "    return numbers\n",
    "\n",
    "\n",
    "def second_solution_sort(numbers):\n",
    "    list_numbers = merge_sort(numbers)\n",
    "    for i in range(len(numbers)):\n",
    "        numbers[i] = numbers[i] ** 2\n",
    "    return list_numbers\n",
    "\n",
    "\n",
    "list_numbers = [6, 2, 1, 7, 9, 3, -1, 5, 20, 15, 13, 2]\n",
    "\n",
    "print(\"merge sort\", merge_sort(list_numbers))\n",
    "print(\"first_solution\", first_solution_sort(list_numbers))\n",
    "print(\"second_solution\", second_solution_sort(list_numbers))"
   ]
  }
 ],
 "metadata": {
  "language_info": {
   "name": "python"
  }
 },
 "nbformat": 4,
 "nbformat_minor": 5
}
