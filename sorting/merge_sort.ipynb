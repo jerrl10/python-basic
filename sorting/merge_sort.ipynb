{
 "cells": [
  {
   "cell_type": "code",
   "execution_count": null,
   "id": "1ec7cd9d",
   "metadata": {},
   "outputs": [],
   "source": [
    "def merge_sort(list_num):\n",
    "    if len(list_num) <= 1:\n",
    "        return list_num\n",
    "    pivot = len(list_num) // 2\n",
    "    left_list = list_num[:pivot]\n",
    "    right_list = list_num[pivot:]\n",
    "    left_list = merge_sort(left_list)\n",
    "    right_list = merge_sort(right_list)\n",
    "    return list(merge(left_list, right_list))\n",
    "\n",
    "\n",
    "def merge(left, right):\n",
    "    merged = []\n",
    "    while len(left) != 0 and len(right) != 0:\n",
    "        if left[0] < right[0]:\n",
    "            merged.append(left[0])\n",
    "            left.remove(left[0])\n",
    "        else:\n",
    "            merged.append(right[0])\n",
    "            right.remove(right[0])\n",
    "    if len(left) == 0:\n",
    "        merged = merged + right\n",
    "    else:\n",
    "        merged = merged + left\n",
    "    return merged\n",
    "\n",
    "\n",
    "num = [6, 2, 1, 7, 9, 3, -1, 5, 20, 15, 13, 2]\n",
    "print(merge_sort(num))"
   ]
  }
 ],
 "metadata": {
  "language_info": {
   "name": "python"
  }
 },
 "nbformat": 4,
 "nbformat_minor": 5
}
