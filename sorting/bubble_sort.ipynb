{
 "cells": [
  {
   "cell_type": "code",
   "execution_count": 1,
   "id": "1c53e868",
   "metadata": {},
   "outputs": [
    {
     "name": "stdout",
     "output_type": "stream",
     "text": [
      "[-1, 1, 2, 2, 3, 5, 6, 7, 9, 13, 15, 20]\n"
     ]
    }
   ],
   "source": [
    "def sort_bubble(list_num):\n",
    "    for i in range(len(list_num) -1, 0 , -1):\n",
    "        for j in range(i):\n",
    "            if list_num[j] > list_num[j + 1]:\n",
    "                temp = list_num[j]\n",
    "                list_num[j] = list_num[j + 1]\n",
    "                list_num[j + 1] = temp\n",
    "            \n",
    "    return list_num\n",
    "\n",
    "list_num = [6, 2, 1, 7, 9, 3, -1, 5, 20, 15, 13, 2]\n",
    "print(sort_bubble(list_num))\n",
    "\n"
   ]
  }
 ],
 "metadata": {
  "kernelspec": {
   "display_name": "Python 3",
   "language": "python",
   "name": "python3"
  },
  "language_info": {
   "codemirror_mode": {
    "name": "ipython",
    "version": 3
   },
   "file_extension": ".py",
   "mimetype": "text/x-python",
   "name": "python",
   "nbconvert_exporter": "python",
   "pygments_lexer": "ipython3",
   "version": "3.9.6"
  }
 },
 "nbformat": 4,
 "nbformat_minor": 5
}
